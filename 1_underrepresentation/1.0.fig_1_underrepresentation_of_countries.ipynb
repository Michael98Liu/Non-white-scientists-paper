{
 "cells": [
  {
   "cell_type": "code",
   "execution_count": 1,
   "metadata": {},
   "outputs": [],
   "source": [
    "import pandas as pd\n",
    "import numpy as np\n",
    "import glob\n",
    "from scipy.stats import ttest_ind, ttest_1samp, fisher_exact\n",
    "import scipy\n",
    "from tqdm.notebook import tqdm\n",
    "\n",
    "import seaborn as sns\n",
    "import matplotlib\n",
    "from matplotlib import pyplot as plt\n",
    "\n",
    "DATADIR = '../data/' # directory that contains the anonymized data\n",
    "\n",
    "cm = 1/2.54  # centimeters in inches\n",
    "font = {'size': 7}\n",
    "matplotlib.rc('font', **font)\n",
    "\n",
    "matplotlib.rcParams['pdf.fonttype'] = 42\n",
    "matplotlib.rcParams['ps.fonttype'] = 42\n",
    "\n",
    "matplotlib.rcParams['grid.linewidth'] = 0.5\n",
    "matplotlib.rcParams['axes.linewidth'] = 0.5\n",
    "\n",
    "def set_size(w,h, ax=None):\n",
    "    \"\"\" w, h: width, height in inches \"\"\"\n",
    "    if not ax: ax=plt.gca()\n",
    "    l = ax.figure.subplotpars.left\n",
    "    r = ax.figure.subplotpars.right\n",
    "    t = ax.figure.subplotpars.top\n",
    "    b = ax.figure.subplotpars.bottom\n",
    "    figw = float(w)/(r-l)\n",
    "    figh = float(h)/(t-b)\n",
    "    ax.figure.set_size_inches(figw, figh)"
   ]
  },
  {
   "cell_type": "code",
   "execution_count": 6,
   "metadata": {},
   "outputs": [
    {
     "name": "stdout",
     "output_type": "stream",
     "text": [
      "(223, 2) (248, 2)\n"
     ]
    }
   ],
   "source": [
    "def assignRegion(row):\n",
    "    \n",
    "    if row.region == 'Americas':\n",
    "        if row['sub-region'] == 'Northern America':\n",
    "            return 'NA and Oceania'\n",
    "        else:\n",
    "            return row['sub-region']\n",
    "        \n",
    "    elif row.region == 'Oceania': return 'NA and Oceania'\n",
    "    else:\n",
    "        return row.region\n",
    "\n",
    "### map from iso code to country names ###\n",
    "isoToC = (\n",
    "    pd.read_csv(DATADIR + 'worldcities.csv',usecols=['iso2','country'])\n",
    "    .drop_duplicates()\n",
    "    .rename(columns={'iso2':'iso'})\n",
    ")\n",
    "isoToC.loc[isoToC.iso == 'US', 'country'] = 'U.S.A.' # replace country name w/ abbreviation USA\n",
    "isoToC.loc[isoToC.iso == 'AE', 'country'] = 'U.A.E.' # replace country name w/ abbreviation UAE\n",
    "isoToC.loc[isoToC.iso == 'GB', 'country'] = 'U.K.' # replace country name w/ abbreviation UK\n",
    "\n",
    "assert(isoToC.iso.duplicated().any() == False)\n",
    "assert(isoToC.country.duplicated().any() == False)\n",
    "### ###\n",
    "\n",
    "### map from ISO codes to regions \n",
    "continents = (\n",
    "    pd.read_csv(DATADIR + 'continents2.csv',usecols=['iso_3166-2','region','sub-region'])\n",
    "    .rename(columns={'iso_3166-2':'iso'})\n",
    "    .assign(iso=lambda df: df.iso.apply(lambda x: x.replace('ISO 3166-2:','')))\n",
    "    .drop_duplicates()\n",
    "    .dropna()\n",
    "    .assign(region=lambda df: df.apply(assignRegion, axis=1))\n",
    "    .drop('sub-region', axis=1)\n",
    ")\n",
    "print(isoToC.shape, continents.shape)\n",
    "### ###\n",
    "\n",
    "### color of countries ###\n",
    "colorsDf = pd.DataFrame({\n",
    "    'region': ['Africa', 'Latin America and the Caribbean', 'Asia', 'Europe', 'NA and Oceania'], \n",
    "    'Color': ['#f34d4d', '#f34d4d', '#f34d4d', '#69bade', '#69bade']}) # white and non-white colors\n",
    "\n",
    "colors = dict(zip(colorsDf.region, colorsDf.Color))\n",
    "###"
   ]
  },
  {
   "cell_type": "code",
   "execution_count": 2,
   "metadata": {},
   "outputs": [],
   "source": [
    "publisherToID = pd.read_csv(DATADIR + \"PublisherId.csv\",sep='\\t')\n",
    "\n",
    "authors = (\n",
    "    pd.read_csv(DATADIR + 'country_rep/Authors.tsv', sep='\\t')\n",
    "    .merge(publisherToID, on='PubID')\n",
    ")\n",
    "\n",
    "editors = (\n",
    "    pd.read_csv(DATADIR + 'country_rep/Editors.tsv', sep='\\t')\n",
    "    .merge(publisherToID, on='PubID')\n",
    ")"
   ]
  },
  {
   "cell_type": "code",
   "execution_count": 3,
   "metadata": {},
   "outputs": [],
   "source": [
    "def computeRepresentation(authors, editors, unifyBaseline=False):\n",
    "    \n",
    "    # keys of dataframe: publisher, country\n",
    "    # If unifyBaseline==True: use all authorships as the baseline\n",
    "    \n",
    "    byPubAu = authors.groupby(['Publisher']).iso.value_counts(normalize=True).reset_index(name='AuthorPercent')\n",
    "    byPubEd = editors.groupby(['Publisher']).iso.value_counts(normalize=True).reset_index(name='EditorPercent')\n",
    "\n",
    "    both = byPubEd.merge(byPubAu, on=['Publisher','iso'], how='left').fillna({'EditorPercent': 0})\n",
    "    print('countries that exist among both authors and editors', both.shape)  # 564\n",
    "    \n",
    "\n",
    "    df = pd.DataFrame(columns=['iso', 'Over', 'p', 'EdiCount', 'AutCount', 'EdiTotal', 'AutTotal'])\n",
    "    df['Over'] = df['Over'].astype(bool)\n",
    "\n",
    "    for publisher in tqdm(['pnas', 'ieee', 'mdpi', 'plos', 'hindawi', 'frontiers', 'all']):\n",
    "    \n",
    "        if publisher != 'all':\n",
    "            subEdi = editors.query(f'Publisher == \"{publisher}\"')\n",
    "            subAut = authors.query(f'Publisher == \"{publisher}\"')\n",
    "        elif publisher == 'all':\n",
    "            subEdi = editors.copy()\n",
    "            subAut = authors.copy()\n",
    "            \n",
    "        if unifyBaseline: subAut = authors.copy()\n",
    "\n",
    "        ediTotal = subEdi.shape[0]\n",
    "        autTotal = subAut.shape[0]\n",
    "        \n",
    "        if ediTotal==0 or autTotal==0: continue\n",
    "\n",
    "        for country in both.iso.unique():\n",
    "\n",
    "            e = subEdi.query(f'iso == \"{country}\"').shape[0]\n",
    "            a = subAut.query(f'iso == \"{country}\"').shape[0]\n",
    "\n",
    "            test = fisher_exact([[e, ediTotal], [a, autTotal]])\n",
    "            \n",
    "            df = pd.concat([df, pd.DataFrame({\n",
    "                'Publisher': publisher,\n",
    "                'iso':country,\n",
    "                'Over': bool(e/ediTotal > a/autTotal),\n",
    "                'p': test[1],\n",
    "                'EdiCount': e,\n",
    "                'AutCount': a,\n",
    "                'EdiTotal': ediTotal,\n",
    "                'AutTotal': autTotal\n",
    "            }, index=[0])], ignore_index=True, sort=False)\n",
    "            \n",
    "    df = df.assign(EdiPercent = lambda df: df.EdiCount/df.EdiTotal)\n",
    "    df = df.assign(AutPercent = lambda df: df.AutCount/df.AutTotal)\n",
    "    \n",
    "    print(df.shape)\n",
    "    df = df.query('AutPercent > 0')\n",
    "    df = df.assign(Relative = lambda df: df.EdiPercent/df.AutPercent)\n",
    "    \n",
    "    print(df.shape)\n",
    "    \n",
    "    return df"
   ]
  },
  {
   "cell_type": "code",
   "execution_count": 4,
   "metadata": {},
   "outputs": [
    {
     "name": "stdout",
     "output_type": "stream",
     "text": [
      "countries that exist among both authors and editors (564, 4)\n"
     ]
    },
    {
     "data": {
      "application/vnd.jupyter.widget-view+json": {
       "model_id": "182b7d59b4b9403b822ccb2c6820c424",
       "version_major": 2,
       "version_minor": 0
      },
      "text/plain": [
       "  0%|          | 0/7 [00:00<?, ?it/s]"
      ]
     },
     "metadata": {},
     "output_type": "display_data"
    },
    {
     "name": "stdout",
     "output_type": "stream",
     "text": [
      "(1015, 10)\n",
      "(963, 11)\n",
      "CPU times: user 1min 8s, sys: 2.55 s, total: 1min 10s\n",
      "Wall time: 1min 10s\n"
     ]
    }
   ],
   "source": [
    "%%time\n",
    "df = computeRepresentation(authors, editors, False)"
   ]
  },
  {
   "cell_type": "code",
   "execution_count": 7,
   "metadata": {},
   "outputs": [
    {
     "data": {
      "text/html": [
       "<div>\n",
       "<style scoped>\n",
       "    .dataframe tbody tr th:only-of-type {\n",
       "        vertical-align: middle;\n",
       "    }\n",
       "\n",
       "    .dataframe tbody tr th {\n",
       "        vertical-align: top;\n",
       "    }\n",
       "\n",
       "    .dataframe thead th {\n",
       "        text-align: right;\n",
       "    }\n",
       "</style>\n",
       "<table border=\"1\" class=\"dataframe\">\n",
       "  <thead>\n",
       "    <tr style=\"text-align: right;\">\n",
       "      <th></th>\n",
       "      <th>EdiCount</th>\n",
       "      <th>AutCount</th>\n",
       "    </tr>\n",
       "    <tr>\n",
       "      <th>Color</th>\n",
       "      <th></th>\n",
       "      <th></th>\n",
       "    </tr>\n",
       "  </thead>\n",
       "  <tbody>\n",
       "    <tr>\n",
       "      <th>#69bade</th>\n",
       "      <td>624469</td>\n",
       "      <td>2888833</td>\n",
       "    </tr>\n",
       "    <tr>\n",
       "      <th>#f34d4d</th>\n",
       "      <td>148254</td>\n",
       "      <td>1945467</td>\n",
       "    </tr>\n",
       "  </tbody>\n",
       "</table>\n",
       "</div>"
      ],
      "text/plain": [
       "        EdiCount AutCount\n",
       "Color                    \n",
       "#69bade   624469  2888833\n",
       "#f34d4d   148254  1945467"
      ]
     },
     "execution_count": 7,
     "metadata": {},
     "output_type": "execute_result"
    }
   ],
   "source": [
    "(\n",
    "    df.query('Publisher == \"all\"')\n",
    "    .merge(continents, on='iso')\n",
    "    .merge(colorsDf, on='region')\n",
    "    .groupby('Color').agg({'EdiCount':sum, 'AutCount':sum})\n",
    ")\n",
    "# 624469\t2888833\n",
    "# 148254\t1945467"
   ]
  },
  {
   "cell_type": "code",
   "execution_count": 8,
   "metadata": {},
   "outputs": [],
   "source": [
    "assert((df[df.Publisher == \"all\"].EdiTotal == df.query('Publisher == \"all\"').EdiCount.sum()).all()==True)"
   ]
  },
  {
   "cell_type": "markdown",
   "metadata": {},
   "source": [
    "## Figure 1b"
   ]
  },
  {
   "cell_type": "code",
   "execution_count": 9,
   "metadata": {},
   "outputs": [],
   "source": [
    "toPlot = (\n",
    "    df\n",
    "    \n",
    "    .merge(continents, on='iso')\n",
    "    .merge(isoToC, on='iso')\n",
    "    .merge(colorsDf, on='region')\n",
    ")"
   ]
  },
  {
   "cell_type": "code",
   "execution_count": 10,
   "metadata": {},
   "outputs": [
    {
     "name": "stdout",
     "output_type": "stream",
     "text": [
      "\\begin{tabular}{lllll}\n",
      " & Country & % editors & % authors & % editors / % authors \\\\\n",
      "6 & U.S.A. & 36.8091% & 22.1546% & 1.66 \\\\\n",
      "57 & China & 7.5205% & 21.6074% & 0.35 \\\\\n",
      "346 & Germany & 3.7866% & 5.1118% & 0.74 \\\\\n",
      "339 & U.K. & 7.1077% & 4.7419% & 1.5 \\\\\n",
      "332 & Italy & 7.809% & 3.9166% & 1.99 \\\\\n",
      "64 & Japan & 2.5391% & 3.6518% & 0.7 \\\\\n",
      "360 & France & 2.7934% & 3.2856% & 0.85 \\\\\n",
      "353 & Spain & 3.0464% & 2.6853% & 1.13 \\\\\n",
      "20 & Canada & 3.295% & 2.5759% & 1.28 \\\\\n",
      "13 & Australia & 4.3109% & 2.5642% & 1.68 \\\\\n",
      "\\end{tabular}\n",
      "\n"
     ]
    }
   ],
   "source": [
    "print(\n",
    "    toPlot.query(f'Publisher == \"all\"')\n",
    "    .sort_values(by='AutPercent',ascending=False)\n",
    "    [['country','EdiPercent','AutPercent','Relative']]\n",
    "    .head(10) # remove this to see the full table\n",
    "    \n",
    "    .assign(EdiPercent = lambda df: df.EdiPercent.apply(lambda x: f'{round(x*100, 4)}%'))\n",
    "    .assign(AutPercent = lambda df: df.AutPercent.apply(lambda x: f'{round(x*100, 4)}%'))\n",
    "    .assign(Relative = lambda df: df.Relative.apply(lambda x: f'{round(x, 2)}'))\n",
    "    \n",
    "    .rename(columns={'country':'Country', 'EdiPercent':'% editors', 'AutPercent':'% authors', 'Relative':'% editors / % authors'})\n",
    "    .style.to_latex()\n",
    ")"
   ]
  },
  {
   "cell_type": "code",
   "execution_count": 11,
   "metadata": {},
   "outputs": [],
   "source": [
    "def plotFigure1(df, ax):\n",
    "    \n",
    "    print(df.shape)\n",
    "    df = df.query('p < 0.001')\n",
    "    print(df.shape, 'Only show significantly over/under')\n",
    "    \n",
    "    posNeg = lambda x: x-1 # transform into positive or negative\n",
    "    \n",
    "    countries = df.iso\n",
    "    x = [_ for _ in range(len(countries))]\n",
    "    y = df.Relative.apply(posNeg)\n",
    "    \n",
    "    ax.set_xticks([])\n",
    "    \n",
    "    df= df.reset_index(drop=True).reset_index()\n",
    "    for ind, row in df.iterrows():\n",
    "        \n",
    "        if row['Relative'] > 1:\n",
    "            ax.text(ind, -0.01, row['country'], rotation='vertical', ha='center', va='top')\n",
    "            \n",
    "        elif row['Relative'] < 1:\n",
    "            ax.text(ind, 0.1, row['country'], rotation='vertical', ha='center', va='bottom')\n",
    "    \n",
    "    ax.bar(x, y, color=df.Color)\n",
    "    \n",
    "    \n",
    "    yticks = ax.get_yticks()\n",
    "    ax.set_yticks(yticks)\n",
    "\n",
    "    ax.set_yticklabels([f\"{x+1:g}\" for x in ax.get_yticks()])"
   ]
  },
  {
   "cell_type": "code",
   "execution_count": 12,
   "metadata": {},
   "outputs": [
    {
     "name": "stdout",
     "output_type": "stream",
     "text": [
      "(42, 14)\n",
      "(41, 14) Only show significantly over/under\n"
     ]
    },
    {
     "data": {
      "image/png": "[encoded data removed]",
      "text/plain": [
       "<Figure size 812.802x204.52 with 1 Axes>"
      ]
     },
     "metadata": {},
     "output_type": "display_data"
    }
   ],
   "source": [
    "ax = plt.gca()\n",
    "\n",
    "plotFigure1(\n",
    "    toPlot.query('Publisher == \"all\"')\n",
    "    .query('EdiCount > 1000')\n",
    "    .sort_values(by='Relative', ascending=False), \n",
    "    ax\n",
    ")\n",
    "\n",
    "ax.set_xlim(-1, 41)\n",
    "\n",
    "ax.spines['top'].set_visible(False)\n",
    "ax.spines['bottom'].set_visible(False)\n",
    "#ax.spines['left'].set_visible(False) \n",
    "ax.spines['right'].set_visible(False)\n",
    "\n",
    "ax.tick_params(length=0)\n",
    "ax.grid(visible=True, ls=':', axis='y', alpha=0.5)\n",
    "\n",
    "ax.plot([-1, 40], [0, 0], color='black', lw=0.5)\n",
    "\n",
    "set_size(16*cm, 4*cm, ax)\n",
    "\n",
    "plt.savefig('../figures/figure_1b.pdf',bbox_inches = 'tight', pad_inches = 0)"
   ]
  },
  {
   "cell_type": "markdown",
   "metadata": {},
   "source": [
    "## Figure 1a"
   ]
  },
  {
   "cell_type": "code",
   "execution_count": 13,
   "metadata": {},
   "outputs": [],
   "source": [
    "import math"
   ]
  },
  {
   "cell_type": "code",
   "execution_count": 14,
   "metadata": {},
   "outputs": [],
   "source": [
    "toPlot = (\n",
    "    df\n",
    "    \n",
    "    .merge(continents, on='iso')\n",
    "    .merge(isoToC, on='iso')\n",
    "    .merge(colorsDf, on='region')\n",
    ")"
   ]
  },
  {
   "cell_type": "code",
   "execution_count": 16,
   "metadata": {},
   "outputs": [
    {
     "name": "stdout",
     "output_type": "stream",
     "text": [
      "(223, 2)\n"
     ]
    }
   ],
   "source": [
    "iso2to3 = (\n",
    "    pd.read_csv(DATADIR + 'worldcities.csv',usecols=['iso2','iso3'])\n",
    "    .drop_duplicates()\n",
    "    .rename(columns={'iso2':'iso'})\n",
    ")\n",
    "assert(iso2to3.iso3.duplicated().any() == False)\n",
    "assert(iso2to3.iso.duplicated().any() == False)\n",
    "\n",
    "print(iso2to3.shape) # 223"
   ]
  },
  {
   "cell_type": "code",
   "execution_count": 17,
   "metadata": {},
   "outputs": [
    {
     "data": {
      "text/plain": [
       "10"
      ]
     },
     "execution_count": 17,
     "metadata": {},
     "output_type": "execute_result"
    }
   ],
   "source": [
    "colorSeq = [\n",
    "    '#543005',\n",
    "    '#8c510a',\n",
    "    '#bf812d',\n",
    "    '#dfc27d',\n",
    "    '#f6e8c3',\n",
    "    '#c7eae5',\n",
    "    '#80cdc1',\n",
    "    '#35978f',\n",
    "    '#01665e',\n",
    "    '#003c30'\n",
    "]\n",
    "\n",
    "colorSeq = colorSeq\n",
    "len(colorSeq)"
   ]
  },
  {
   "cell_type": "code",
   "execution_count": 18,
   "metadata": {},
   "outputs": [],
   "source": [
    "def assignColor(row, col, baseline):\n",
    "    try:\n",
    "        diff = baseline-int(row[col]) # difference between the current bin and the baseline bin\n",
    "        assert(4-diff >=0 and 4-diff < 10) # 10 being the total number of colors\n",
    "        \n",
    "        return colorSeq[4 - diff] # 4 is the index of the last green color\n",
    "    except Exception as e:\n",
    "        \n",
    "        print('ERROR', e)\n",
    "        return np.nan"
   ]
  },
  {
   "cell_type": "code",
   "execution_count": 19,
   "metadata": {},
   "outputs": [],
   "source": [
    "import geopandas\n",
    "\n",
    "def produceMap(pub):\n",
    "    \n",
    "    representation = toPlot.query(f'Publisher == \"{pub}\"')[['iso','Relative','p']]\n",
    "    print(representation.shape)\n",
    "\n",
    "    path_to_data = geopandas.datasets.get_path(\"naturalearth_lowres\")\n",
    "    world = (\n",
    "        geopandas.read_file(path_to_data)\n",
    "        .rename(columns={'iso_a3':'iso3'})\n",
    "        .drop(['pop_est', 'gdp_md_est'], axis=1)\n",
    "    )\n",
    "    print(world.shape)\n",
    "\n",
    "    world.loc[world.name == 'Taiwan', 'iso3'] = 'CHN'\n",
    "    world.loc[world.name == 'Norway', 'iso3'] = 'NOR'\n",
    "    world.loc[world.name == 'France', 'iso3'] = 'FRA'\n",
    "    world = world[world.continent != 'Antarctica']\n",
    "    world = world.drop(['continent'], axis=1)\n",
    "    print('Remove Antarctica', world.shape)\n",
    "\n",
    "    world = world.query('iso3 != \"-99\"')\n",
    "    print('Remove unrecognized countries', world.shape)\n",
    "\n",
    "    world = world.dissolve(by='iso3').reset_index()\n",
    "    print('One China', world.shape)\n",
    "\n",
    "    world = (\n",
    "        world.merge(iso2to3, on='iso3')\n",
    "        .merge(representation, on='iso')\n",
    "    )\n",
    "    print(world.shape)\n",
    "    \n",
    "    return world"
   ]
  },
  {
   "cell_type": "code",
   "execution_count": 20,
   "metadata": {},
   "outputs": [],
   "source": [
    "def getPercentile(df, col, N, cutoff=None):\n",
    "    \n",
    "    # N: number of percentile bins\n",
    "    # cutoff: below and above cutoff should be two different colors\n",
    "    \n",
    "    df = (\n",
    "        df\n",
    "        .assign(percentile = lambda df: \n",
    "                  df[col].rank(pct=True, method='max')\n",
    "                  .apply(lambda x: math.ceil((x*N))) # round up percentile score\n",
    "                 )\n",
    "        .rename(columns={'percentile': f'{col}_Q'})\n",
    "    )\n",
    "    binsDf = None\n",
    "    \n",
    "    if cutoff is not None:\n",
    "        \n",
    "        # split the bin that contains cutoff into 2\n",
    "        \n",
    "        bins = df.groupby(f'{col}_Q')[col].max().reset_index().set_index(f'{col}_Q').to_dict()[col]\n",
    "        \n",
    "        ### add 1 as a bin cutoff, and shift all following bin index by 1 ###\n",
    "        prev = None\n",
    "        midInd = None # index of the last bin below cutoff\n",
    "        \n",
    "        for i in range(min(bins.keys()), N+1):\n",
    "            if bins[i] > cutoff:\n",
    "                if prev is None:\n",
    "                    midInd = i\n",
    "                    prev=bins[i]\n",
    "                    bins[i] = cutoff\n",
    "                else:\n",
    "                    bins[i], prev = prev, bins[i]\n",
    "        bins[N+1] = prev\n",
    "        \n",
    "        binsDf = (\n",
    "            pd.DataFrame.from_dict(bins, orient='index', columns=[f'{col}_max'])\n",
    "            .reset_index().rename(columns={'index': f'{col}_Q'})\n",
    "            .assign(Color = lambda df: df.apply(lambda row: assignColor(row, f'{col}_Q', baseline=midInd), axis=1))\n",
    "        )\n",
    "        ######\n",
    "        \n",
    "        df = df.drop([f'{col}_Q'], axis=1)\n",
    "        cols = df.columns.to_list()\n",
    "        \n",
    "        df = (\n",
    "            df\n",
    "            .assign(key=1).merge(binsDf.assign(key=1), on='key')\n",
    "            .query(f'{col} <= {col}_max')\n",
    "            .groupby(cols)[f'{col}_Q'].min().reset_index()\n",
    "            \n",
    "            .merge(binsDf[[f'{col}_Q', 'Color']], on=f'{col}_Q')\n",
    "        )\n",
    "    \n",
    "    return df, binsDf"
   ]
  },
  {
   "cell_type": "code",
   "execution_count": 21,
   "metadata": {},
   "outputs": [],
   "source": [
    "def plotMap(publisher, ax=None, numBins=5, cax=None, figsize=(24*cm, 6*cm)):\n",
    "    \n",
    "    world = produceMap(publisher)\n",
    "\n",
    "    relativeBins, bins = getPercentile(\n",
    "        world.query('p < 0.001')[['iso3','Relative']],\n",
    "        'Relative', 5, 1\n",
    "    )\n",
    "    \n",
    "    #return relativeBins, bins\n",
    "    \n",
    "    assert(relativeBins.shape[0] ==  world.query('p < 0.001').shape[0])\n",
    "    if numBins + 1 != bins.shape[0]:\n",
    "        print('warning! number of bins', bins.shape[0])\n",
    "\n",
    "    world = (\n",
    "        pd.concat([\n",
    "            world.query('p < 0.001').merge(relativeBins.drop(['Relative'], axis=1), on='iso3'),\n",
    "            world.query('p >= 0.001').assign(Color='lightgrey')\n",
    "        ], ignore_index=True, sort=False)\n",
    "    )\n",
    "\n",
    "    print(world.shape, 'should be the same as before')\n",
    "    \n",
    "    if ax is None: ax = plt.gca()\n",
    "\n",
    "    set_size(figsize[0], figsize[1], ax)\n",
    "\n",
    "    world.plot(ax = ax, color=world.Color)\n",
    "\n",
    "    ax.set_xticks([])\n",
    "    ax.set_yticks([])\n",
    "\n",
    "    ax.spines['right'].set_visible(False)\n",
    "    ax.spines['top'].set_visible(False)\n",
    "    ax.spines['bottom'].set_visible(False)\n",
    "    ax.spines['left'].set_visible(False)\n",
    "    \n",
    "    if cax is not None:\n",
    "        plotPallete(bins.Color, list(bins.Relative_max), cax, vertical=True, scale=0.6)\n",
    "        \n",
    "\n",
    "    plt.savefig(f'../figures/figure_1a.pdf',bbox_inches = 'tight', pad_inches = 0)\n",
    "    \n",
    "    return bins"
   ]
  },
  {
   "cell_type": "code",
   "execution_count": 22,
   "metadata": {},
   "outputs": [],
   "source": [
    "def plotPallete(cSeq, labels, ax=None, vertical=False, scale=1, rounding=1):\n",
    "    \n",
    "    n = len(cSeq)\n",
    "    labels = [0] + labels\n",
    "    \n",
    "    if vertical:\n",
    "        if ax is None:\n",
    "            \n",
    "            ax = plt.gca()\n",
    "            set_size(1*cm*scale, n*cm*scale)\n",
    "    \n",
    "        ax.set_ylim(0, n)\n",
    "        ax.set_xlim(0, 1)\n",
    "        ax.set_xticks([])\n",
    "        \n",
    "        ax.set_yticks([x for x in range(n+1)])\n",
    "        ax.set_yticklabels([f\"{round(x, rounding):g}\" for x in labels])\n",
    "        \n",
    "        for i in range(n):\n",
    "            ax.fill_between([0, 1], i, i+1, facecolor=cSeq[i])"
   ]
  },
  {
   "cell_type": "code",
   "execution_count": 23,
   "metadata": {},
   "outputs": [
    {
     "name": "stdout",
     "output_type": "stream",
     "text": [
      "(145, 3)\n",
      "(177, 4)\n",
      "Remove Antarctica (176, 3)\n",
      "Remove unrecognized countries (173, 3)\n",
      "One China (172, 3)\n",
      "(134, 6)\n",
      "(134, 8) should be the same as before\n"
     ]
    },
    {
     "data": {
      "image/png": "[encoded data removed]",
      "text/plain": [
       "<Figure size 1219.2x306.78 with 1 Axes>"
      ]
     },
     "metadata": {},
     "output_type": "display_data"
    }
   ],
   "source": [
    "bins = plotMap('all')"
   ]
  },
  {
   "cell_type": "code",
   "execution_count": 24,
   "metadata": {},
   "outputs": [
    {
     "data": {
      "image/png": "[encoded data removed]",
      "text/plain": [
       "<Figure size 30.4801x184.068 with 1 Axes>"
      ]
     },
     "metadata": {},
     "output_type": "display_data"
    }
   ],
   "source": [
    "plotPallete(bins.Color, list(bins.Relative_max), vertical=True, scale=0.6)\n",
    "\n",
    "plt.savefig('../figures/figure_1a_legend.pdf', bbox_inches = 'tight', pad_inches = 0)"
   ]
  },
  {
   "cell_type": "markdown",
   "metadata": {},
   "source": [
    "## Figure 1c, 1d, and 1e"
   ]
  },
  {
   "cell_type": "code",
   "execution_count": 25,
   "metadata": {},
   "outputs": [],
   "source": [
    "def plotSidebySide(toPlotDf, key='FieldName', hspace=1, width=10, height=6, saveFile=True):\n",
    "    \n",
    "    bars = toPlotDf.groupby([key,'Color']).Over.value_counts(normalize=True).reset_index(name='Percentage')\n",
    "    \n",
    "    sequence = (\n",
    "        bars.query('Over == True').query('Color == \"#69bade\"')\n",
    "        .sort_values(by='Percentage',ascending=False)\n",
    "        [[key]]\n",
    "    )\n",
    "    \n",
    "    offset=0.1\n",
    "    \n",
    "    xRed = [_*2+offset for _ in range(sequence.shape[0])]\n",
    "    xBlue = [_*2+1-offset for _ in range(sequence.shape[0])]\n",
    "    \n",
    "    overBlue = (\n",
    "        bars.query('Over == True').query('Color == \"#69bade\"')\n",
    "        .merge(sequence, how='right', on=key).fillna({'Percentage':0})\n",
    "    )\n",
    "    overRed = (\n",
    "        bars.query('Over == True').query('Color == \"#f34d4d\"')\n",
    "        .merge(sequence, how='right', on=key).fillna({'Percentage':0})\n",
    "    )\n",
    "    \n",
    "    underBlue = (\n",
    "        bars.query('Over == False').query('Color == \"#69bade\"')\n",
    "        .merge(sequence, how='right', on=key).fillna({'Percentage':0})\n",
    "    )\n",
    "    underRed = (\n",
    "        bars.query('Over == False').query('Color == \"#f34d4d\"')\n",
    "        .merge(sequence, how='right', on=key).fillna({'Percentage':0})\n",
    "    )\n",
    "    \n",
    "    ax = plt.subplot(2, 1, 1)\n",
    "    \n",
    "    ax.bar(xRed, overRed.Percentage, color='#f34d4d', width=1-offset*2)\n",
    "    ax.bar(xBlue, overBlue.Percentage, color='#69bade', width=1-offset*2)\n",
    "    \n",
    "    ax.spines['top'].set_visible(False)\n",
    "    ax.spines['right'].set_visible(False)\n",
    "    ax.tick_params(length=0, axis='x')\n",
    "    ax.tick_params(rotation=90, axis='x')\n",
    "    \n",
    "    ax.set_xticks([_*2+0.5 for _ in range(sequence.shape[0])])\n",
    "    ax.set_xticklabels(\n",
    "        overRed[key].apply(lambda x: x.replace('science', 'sci.').replace('Environmental','Environ.'))\n",
    "    )\n",
    "    ax.set_yticks([0, 0.5, 1])\n",
    "    ax.set_yticklabels(['0%', '50%', '100%'])\n",
    "    \n",
    "    ax.set_xlim(-0.6, (sequence.shape[0])*2-1+0.6)\n",
    "    \n",
    "    ax = plt.subplot(2, 1, 2)\n",
    "    ax.bar(xRed, underRed.Percentage.apply(lambda x: -x), color='#f34d4d', width=1-offset*2)\n",
    "    ax.bar(xBlue, underBlue.Percentage.apply(lambda x: -x), color='#69bade', width=1-offset*2)\n",
    "    \n",
    "    \n",
    "    ax.set_xticks([])\n",
    "    ax.spines['bottom'].set_visible(False)\n",
    "    ax.spines['right'].set_visible(False) \n",
    "    \n",
    "    ax.set_yticks([-0, -0.5, -1])\n",
    "    ax.set_yticklabels(['0%', '50%', '100%'])\n",
    "    \n",
    "    ax.set_xlim(-0.6, (sequence.shape[0])*2-1+0.6)\n",
    "    \n",
    "    \n",
    "    plt.subplots_adjust(hspace=hspace)\n",
    "    set_size(width*cm, height*cm, ax)\n",
    "    \n",
    "    if saveFile:\n",
    "        plt.savefig(f'../figures/Over_under_by_{key}.pdf',bbox_inches = 'tight', pad_inches = 0)    "
   ]
  },
  {
   "cell_type": "markdown",
   "metadata": {},
   "source": [
    "### Figure 1c"
   ]
  },
  {
   "cell_type": "code",
   "execution_count": 26,
   "metadata": {},
   "outputs": [],
   "source": [
    "toPlot = (\n",
    "    df\n",
    "    .query('p < 0.001')\n",
    "    .merge(continents, on='iso')\n",
    "    .merge(isoToC, on='iso')\n",
    "    .merge(colorsDf, on='region')\n",
    ")"
   ]
  },
  {
   "cell_type": "code",
   "execution_count": 27,
   "metadata": {},
   "outputs": [
    {
     "data": {
      "image/png": "[encoded data removed]",
      "text/plain": [
       "<Figure size 152.4x306.78 with 2 Axes>"
      ]
     },
     "metadata": {},
     "output_type": "display_data"
    }
   ],
   "source": [
    "plotSidebySide(toPlot.query('Publisher!= \"all\"'), key='Publisher', width=3, saveFile=False)\n",
    "plt.savefig('../figures/figure_1c.pdf', bbox_inches = 'tight', pad_inches = 0)"
   ]
  },
  {
   "cell_type": "markdown",
   "metadata": {},
   "source": [
    "### Figure 1d"
   ]
  },
  {
   "cell_type": "code",
   "execution_count": 30,
   "metadata": {},
   "outputs": [],
   "source": [
    "editorsField = pd.read_csv(DATADIR + 'country_rep/EditorsField.tsv', sep='\\t')\n",
    "authorsField = pd.read_csv(DATADIR + 'country_rep/AuthorsField.tsv', sep='\\t')"
   ]
  },
  {
   "cell_type": "code",
   "execution_count": 31,
   "metadata": {},
   "outputs": [
    {
     "data": {
      "text/plain": [
       "(19, 2)"
      ]
     },
     "execution_count": 31,
     "metadata": {},
     "output_type": "execute_result"
    }
   ],
   "source": [
    "nineteenFields = pd.read_csv(DATADIR + 'Fields.tsv', sep='\\t')\n",
    "nineteenFields.shape"
   ]
  },
  {
   "cell_type": "code",
   "execution_count": 32,
   "metadata": {},
   "outputs": [
    {
     "data": {
      "text/html": [
       "<div>\n",
       "<style scoped>\n",
       "    .dataframe tbody tr th:only-of-type {\n",
       "        vertical-align: middle;\n",
       "    }\n",
       "\n",
       "    .dataframe tbody tr th {\n",
       "        vertical-align: top;\n",
       "    }\n",
       "\n",
       "    .dataframe thead th {\n",
       "        text-align: right;\n",
       "    }\n",
       "</style>\n",
       "<table border=\"1\" class=\"dataframe\">\n",
       "  <thead>\n",
       "    <tr style=\"text-align: right;\">\n",
       "      <th></th>\n",
       "      <th>FID</th>\n",
       "      <th>FieldName</th>\n",
       "    </tr>\n",
       "  </thead>\n",
       "  <tbody>\n",
       "    <tr>\n",
       "      <th>0</th>\n",
       "      <td>0</td>\n",
       "      <td>Medicine</td>\n",
       "    </tr>\n",
       "    <tr>\n",
       "      <th>1</th>\n",
       "      <td>1</td>\n",
       "      <td>Biology</td>\n",
       "    </tr>\n",
       "    <tr>\n",
       "      <th>2</th>\n",
       "      <td>2</td>\n",
       "      <td>Geology</td>\n",
       "    </tr>\n",
       "    <tr>\n",
       "      <th>3</th>\n",
       "      <td>3</td>\n",
       "      <td>Chemistry</td>\n",
       "    </tr>\n",
       "    <tr>\n",
       "      <th>4</th>\n",
       "      <td>4</td>\n",
       "      <td>Philosophy</td>\n",
       "    </tr>\n",
       "  </tbody>\n",
       "</table>\n",
       "</div>"
      ],
      "text/plain": [
       "   FID   FieldName\n",
       "0    0    Medicine\n",
       "1    1     Biology\n",
       "2    2     Geology\n",
       "3    3   Chemistry\n",
       "4    4  Philosophy"
      ]
     },
     "execution_count": 32,
     "metadata": {},
     "output_type": "execute_result"
    }
   ],
   "source": [
    "nineteenFields.head()"
   ]
  },
  {
   "cell_type": "code",
   "execution_count": 33,
   "metadata": {},
   "outputs": [],
   "source": [
    "def computeRepresentationByField(editors=editorsField, authors=authorsField):\n",
    "    \n",
    "    df = pd.DataFrame(columns=['iso', 'Over', 'p', 'EdiCount', 'AutCount', 'EdiTotal', 'AutTotal'])\n",
    "    df['Over'] = df['Over'].astype(bool)\n",
    "    \n",
    "    for ind, row in nineteenFields.iterrows():\n",
    "        \n",
    "        field = row['FieldName']\n",
    "        fid = row['FID']\n",
    "    \n",
    "        if field != 'all':\n",
    "            subEdi = editors.query(f'FID == {fid}')\n",
    "            subAut = authors.query(f'FID == {fid}')\n",
    "        elif field == 'all':\n",
    "            subEdi = editors.copy()\n",
    "            subAut = authors.copy()\n",
    "\n",
    "        ediTotal = subEdi.shape[0]\n",
    "        autTotal = subAut.shape[0]\n",
    "        \n",
    "        if ediTotal==0 or autTotal==0: continue\n",
    "\n",
    "        for country in editors.iso.unique():\n",
    "\n",
    "            e = subEdi.query(f'iso == \"{country}\"').shape[0]\n",
    "            a = subAut.query(f'iso == \"{country}\"').shape[0]\n",
    "\n",
    "            test = fisher_exact([[e, ediTotal], [a, autTotal]])\n",
    "            \n",
    "            df = pd.concat([df, pd.DataFrame({\n",
    "                'FieldName': field,\n",
    "                'iso':country,\n",
    "                'Over': e/ediTotal > a/autTotal,\n",
    "                'p': test[1],\n",
    "                'EdiCount': e,\n",
    "                'AutCount': a,\n",
    "                'EdiTotal': ediTotal,\n",
    "                'AutTotal': autTotal\n",
    "            }, index=[0])], ignore_index=True)\n",
    "            \n",
    "    df = df.assign(EdiPercent = lambda df: df.EdiCount/df.EdiTotal)\n",
    "    df = df.assign(AutPercent = lambda df: df.AutCount/df.AutTotal)\n",
    "    \n",
    "    df = df.query('AutPercent > 0')\n",
    "    df = df.assign(Relative = lambda df: df.EdiPercent/df.AutPercent)\n",
    "    \n",
    "    return df"
   ]
  },
  {
   "cell_type": "code",
   "execution_count": 34,
   "metadata": {},
   "outputs": [
    {
     "name": "stdout",
     "output_type": "stream",
     "text": [
      "CPU times: user 2min 25s, sys: 1.8 s, total: 2min 27s\n",
      "Wall time: 2min 27s\n"
     ]
    }
   ],
   "source": [
    "%%time\n",
    "df = computeRepresentationByField()"
   ]
  },
  {
   "cell_type": "code",
   "execution_count": 37,
   "metadata": {},
   "outputs": [
    {
     "data": {
      "text/plain": [
       "(989, 14)"
      ]
     },
     "execution_count": 37,
     "metadata": {},
     "output_type": "execute_result"
    }
   ],
   "source": [
    "# only show the significant ones\n",
    "toPlot = (\n",
    "    df\n",
    "    .query('p < 0.001')\n",
    "    .merge(continents, on='iso')\n",
    "    .merge(isoToC, on='iso')\n",
    "    .merge(colorsDf, on='region')\n",
    ")\n",
    "\n",
    "toPlot.shape # 989"
   ]
  },
  {
   "cell_type": "code",
   "execution_count": 38,
   "metadata": {},
   "outputs": [
    {
     "data": {
      "image/png": "[encoded data removed]",
      "text/plain": [
       "<Figure size 381.001x306.78 with 2 Axes>"
      ]
     },
     "metadata": {},
     "output_type": "display_data"
    }
   ],
   "source": [
    "plotSidebySide(toPlot, width=7.5, saveFile=False)\n",
    "plt.savefig('../figures/figure_1d.pdf', bbox_inches = 'tight', pad_inches = 0)"
   ]
  },
  {
   "cell_type": "markdown",
   "metadata": {},
   "source": [
    "### Figure 1e"
   ]
  },
  {
   "cell_type": "code",
   "execution_count": 39,
   "metadata": {},
   "outputs": [],
   "source": [
    "topJournalISO = pd.read_csv(DATADIR + 'country_rep/TopJournalCountryRep.tsv',sep='\\t')"
   ]
  },
  {
   "cell_type": "code",
   "execution_count": 40,
   "metadata": {},
   "outputs": [
    {
     "name": "stdout",
     "output_type": "stream",
     "text": [
      "(434, 13)\n",
      "CPU times: user 9.09 s, sys: 52.6 ms, total: 9.14 s\n",
      "Wall time: 9.12 s\n"
     ]
    }
   ],
   "source": [
    "%%time\n",
    "def fisherRow(row):\n",
    "    return fisher_exact([[row.EdiCount, row.EdiTotal], [row.AutCount, row.AutTotal]])[1]\n",
    "    \n",
    "\n",
    "topEditorCountToPlot = (\n",
    "    \n",
    "    topJournalISO\n",
    "    \n",
    "    .assign(p = lambda df: df.apply(fisherRow, axis=1))\n",
    "    .assign(Over = lambda df: df.apply(lambda row: row.EdiCount/row.EdiTotal > row.AutCount/row.AutTotal, axis=1))\n",
    "    \n",
    "    .merge(continents, on='iso')\n",
    "    .merge(isoToC, on='iso')\n",
    "    .merge(colorsDf, on='region')\n",
    ")\n",
    "print(topEditorCountToPlot.shape)"
   ]
  },
  {
   "cell_type": "code",
   "execution_count": 41,
   "metadata": {},
   "outputs": [
    {
     "data": {
      "image/png": "[encoded data removed]",
      "text/plain": [
       "<Figure size 152.4x306.78 with 2 Axes>"
      ]
     },
     "metadata": {},
     "output_type": "display_data"
    }
   ],
   "source": [
    "plotSidebySide(topEditorCountToPlot, key='Journal', width=3, saveFile=False)\n",
    "plt.savefig('../figures/figure_1e.pdf', bbox_inches = 'tight', pad_inches = 0)"
   ]
  }
 ],
 "metadata": {
  "kernelspec": {
   "display_name": "Python 3 (ipykernel)",
   "language": "python",
   "name": "python3"
  },
  "language_info": {
   "codemirror_mode": {
    "name": "ipython",
    "version": 3
   },
   "file_extension": ".py",
   "mimetype": "text/x-python",
   "name": "python",
   "nbconvert_exporter": "python",
   "pygments_lexer": "ipython3",
   "version": "3.8.2"
  },
  "toc": {
   "base_numbering": 1,
   "nav_menu": {},
   "number_sections": true,
   "sideBar": true,
   "skip_h1_title": false,
   "title_cell": "Table of Contents",
   "title_sidebar": "Contents",
   "toc_cell": false,
   "toc_position": {
    "height": "calc(100% - 180px)",
    "left": "10px",
    "top": "150px",
    "width": "299px"
   },
   "toc_section_display": true,
   "toc_window_display": true
  }
 },
 "nbformat": 4,
 "nbformat_minor": 4
}
