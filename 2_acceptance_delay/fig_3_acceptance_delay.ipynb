{
 "cells": [
  {
   "cell_type": "code",
   "execution_count": 58,
   "id": "92d42653",
   "metadata": {},
   "outputs": [],
   "source": [
    "import pandas as pd\n",
    "import numpy as np\n",
    "import scipy\n",
    "from scipy.stats import ttest_1samp, ttest_ind\n",
    "import glob\n",
    "from matplotlib import pyplot as plt\n",
    "import seaborn as sns\n",
    "import matplotlib\n",
    "\n",
    "DATADIR = '../data/' # directory that contains the anonymized data\n",
    "\n",
    "cm = 1/2.54  # centimeters in inches\n",
    "font = {'size': 7}\n",
    "matplotlib.rc('font', **font)\n",
    "\n",
    "matplotlib.rcParams['pdf.fonttype'] = 42\n",
    "matplotlib.rcParams['ps.fonttype'] = 42\n",
    "\n",
    "matplotlib.rcParams['grid.linewidth'] = 0.5\n",
    "matplotlib.rcParams['axes.linewidth'] = 0.5\n",
    "\n",
    "def set_size(w,h, ax=None):\n",
    "    \"\"\" w, h: width, height in inches \"\"\"\n",
    "    if not ax: ax=plt.gca()\n",
    "    l = ax.figure.subplotpars.left\n",
    "    r = ax.figure.subplotpars.right\n",
    "    t = ax.figure.subplotpars.top\n",
    "    b = ax.figure.subplotpars.bottom\n",
    "    figw = float(w)/(r-l)\n",
    "    figh = float(h)/(t-b)\n",
    "    ax.figure.set_size_inches(figw, figh)"
   ]
  },
  {
   "cell_type": "code",
   "execution_count": 187,
   "id": "7ff98fb8",
   "metadata": {},
   "outputs": [
    {
     "name": "stdout",
     "output_type": "stream",
     "text": [
      "(223, 2) (248, 2)\n"
     ]
    }
   ],
   "source": [
    "def assignRegion(row):\n",
    "    \n",
    "    # create a new region \"NA and Oceania\"\n",
    "    \n",
    "    if row.region == 'Americas':\n",
    "        if row['sub-region'] == 'Northern America':\n",
    "            return 'NA and Oceania'\n",
    "        else:\n",
    "            return row['sub-region']\n",
    "        \n",
    "    elif row.region == 'Oceania': return 'NA and Oceania'\n",
    "    else:\n",
    "        return row.region\n",
    "\n",
    "### map from iso code to country names ###\n",
    "isoToC = (\n",
    "    pd.read_csv(DATADIR + 'worldcities.csv',usecols=['iso2','country'])\n",
    "    .drop_duplicates()\n",
    "    .rename(columns={'iso2':'iso'})\n",
    ")\n",
    "isoToC.loc[isoToC.iso == 'US', 'country'] = 'U.S.A.' # replace country name w/ abbreviation USA\n",
    "isoToC.loc[isoToC.iso == 'AE', 'country'] = 'U.A.E.' # replace country name w/ abbreviation UAE\n",
    "isoToC.loc[isoToC.iso == 'GB', 'country'] = 'U.K.' # replace country name w/ abbreviation UK\n",
    "\n",
    "assert(isoToC.iso.duplicated().any() == False)\n",
    "assert(isoToC.country.duplicated().any() == False)\n",
    "### ###\n",
    "\n",
    "### map from ISO codes to regions \n",
    "continents = (\n",
    "    pd.read_csv(DATADIR + 'continents2.csv',usecols=['iso_3166-2','region','sub-region'])\n",
    "    .rename(columns={'iso_3166-2':'iso'})\n",
    "    .assign(iso=lambda df: df.iso.apply(lambda x: x.replace('ISO 3166-2:','')))\n",
    "    .drop_duplicates()\n",
    "    .dropna()\n",
    "    .assign(region=lambda df: df.apply(assignRegion, axis=1))\n",
    "    .drop('sub-region', axis=1)\n",
    ")\n",
    "print(isoToC.shape, continents.shape)\n",
    "### ###\n",
    "\n",
    "### color of countries ###\n",
    "colorsDf = pd.DataFrame({\n",
    "    'region': ['Africa', 'Latin America and the Caribbean', 'Asia', 'Europe', 'NA and Oceania'], \n",
    "    'Color': ['#f34d4d', '#f34d4d', '#f34d4d', '#69bade', '#69bade']}) # white and non-white colors\n",
    "\n",
    "colors = dict(zip(colorsDf.region, colorsDf.Color))\n",
    "###\n",
    "# (223, 2) (248, 2)"
   ]
  },
  {
   "cell_type": "code",
   "execution_count": 19,
   "id": "92f6a7be",
   "metadata": {},
   "outputs": [],
   "source": [
    "delay = pd.read_csv(DATADIR + 'acpt_delay/PaperCountryDelay.tsv',sep='\\t')"
   ]
  },
  {
   "cell_type": "code",
   "execution_count": 20,
   "id": "48a953c8",
   "metadata": {},
   "outputs": [
    {
     "data": {
      "text/plain": [
       "(770270, 6)"
      ]
     },
     "execution_count": 20,
     "metadata": {},
     "output_type": "execute_result"
    }
   ],
   "source": [
    "delay.shape"
   ]
  },
  {
   "cell_type": "code",
   "execution_count": 24,
   "id": "d436a4fb",
   "metadata": {},
   "outputs": [],
   "source": [
    "def CI(data, confidence=0.95):\n",
    "    \n",
    "    a = 1.0 * np.array(data)\n",
    "    n = len(a)\n",
    "    \n",
    "    if n < 2: return 0\n",
    "    \n",
    "    se = scipy.stats.sem(a)\n",
    "    h = se * scipy.stats.t.ppf((1 + confidence) / 2., n-1)\n",
    "    \n",
    "    return h\n",
    "\n",
    "def calcPbyISO(iso, publisher=None, countryTime = delay):\n",
    "    \n",
    "    df = countryTime.query('iso == @iso')\n",
    "    \n",
    "    if publisher is not None:\n",
    "        df = df.query('Publisher == @publisher')\n",
    "        \n",
    "    v = df.JRelative.values\n",
    "    \n",
    "    if len(v) >=2:\n",
    "        return ttest_1samp(v, 0).pvalue\n",
    "    else:\n",
    "        return np.nan\n",
    "    \n",
    "def acptDelayMean(df, ax):\n",
    "    \n",
    "    for colr in df.Color.unique():\n",
    "        toPlot = df.query(f'Color == \"{colr}\"')\n",
    "        ax.errorbar(y=toPlot.JRelative, x=toPlot.index, yerr=toPlot.CI, color=colr,\n",
    "                    fmt='o', markersize=3, linewidth=0.5, capsize=1, capthick=0.5)\n",
    "    \n",
    "    ax.set_xticks(df.index.values)\n",
    "    ax.set_xticklabels(df.country.values, rotation = 90, ha=\"center\", va='top')\n",
    "    \n",
    "    ax.set_xlim(-0.5, df.index.max() + 0.5)\n",
    "    \n",
    "    ax.spines['top'].set_visible(False)\n",
    "    ax.spines['bottom'].set_visible(False)\n",
    "    ax.spines['right'].set_visible(False) \n",
    "    \n",
    "    ax.tick_params(length=0)\n",
    "    ax.grid(visible=True, ls=':', axis='y', alpha=0.5)\n",
    "    \n",
    "    ax.set_yticks([-0.05, 0, 0.05, 0.1, 0.15])\n",
    "    ax.set_yticklabels(['-5%', 0, '5%', '10%', '15%'])"
   ]
  },
  {
   "cell_type": "code",
   "execution_count": 28,
   "id": "81bb9167",
   "metadata": {},
   "outputs": [],
   "source": [
    "def publisherDelay(df, pub, threshold=500):\n",
    "    \n",
    "    if pub == 'all': pass\n",
    "    else:\n",
    "        df = df.query(f'Publisher == \"{pub}\"')\n",
    "        \n",
    "    paperByCountry = pd.read_csv(DATADIR + 'acpt_delay/CountryPaperCount.tsv',sep='\\t')\n",
    "    \n",
    "    timeByCountry = (\n",
    "        df\n",
    "\n",
    "        .groupby(['country','iso','region']).JRelative.mean().reset_index()\n",
    "        .merge(\n",
    "            df.groupby(['country','iso','region']).JRelative.apply(CI)\n",
    "            .reset_index().rename(columns={'JRelative':'CI'}), on=['country','iso','region']\n",
    "        )\n",
    "        .assign(pValue = lambda df: df.iso.apply(calcPbyISO))\n",
    "        .merge(paperByCountry, on=['country', 'iso'])\n",
    "    )\n",
    "    \n",
    "    if pub != 'all':\n",
    "        timeByCountry = (\n",
    "            timeByCountry.sort_values(by='Count', ascending=False)\n",
    "            .head(50)\n",
    "        ) \n",
    "    else:\n",
    "        timeByCountry = timeByCountry.query(f'Count >= {threshold}')\n",
    "    \n",
    "    toPlot = (\n",
    "        timeByCountry\n",
    "        \n",
    "        .merge(colorsDf, on='region')\n",
    "        .sort_values(by='JRelative')\n",
    "        .reset_index(drop=True)\n",
    "        .reset_index()\n",
    "    )\n",
    "    \n",
    "    return toPlot"
   ]
  },
  {
   "cell_type": "markdown",
   "id": "ebca42b5",
   "metadata": {},
   "source": [
    "# Figure 3a"
   ]
  },
  {
   "cell_type": "code",
   "execution_count": 29,
   "id": "4b3bd219",
   "metadata": {},
   "outputs": [
    {
     "data": {
      "image/png": "[encoded data removed]",
      "text/plain": [
       "<Figure size 812.802x204.52 with 1 Axes>"
      ]
     },
     "metadata": {},
     "output_type": "display_data"
    }
   ],
   "source": [
    "fig = plt.figure()\n",
    "ax = plt.gca()\n",
    "\n",
    "toPlotDelayAll = publisherDelay(delay, 'all')\n",
    "\n",
    "acptDelayMean(toPlotDelayAll, ax)\n",
    "set_size(16*cm, 4*cm, ax)\n",
    "\n",
    "plt.savefig('../figures/figure_3a.pdf',bbox_inches = 'tight', pad_inches = 0)"
   ]
  },
  {
   "cell_type": "code",
   "execution_count": 31,
   "id": "736f963e",
   "metadata": {},
   "outputs": [
    {
     "data": {
      "image/png": "[encoded data removed]",
      "text/plain": [
       "<Figure size 196.85x39.3701 with 1 Axes>"
      ]
     },
     "metadata": {},
     "output_type": "display_data"
    }
   ],
   "source": [
    "from matplotlib.lines import Line2D\n",
    "\n",
    "cm = 1/2.54\n",
    "legend_elements = [\n",
    "    Line2D([0], [0], color='#69bade', lw=0, marker='o', markersize=5,\n",
    "           label='North American, European, and Oceanian countries'),\n",
    "    Line2D([0], [0], color='#f34d4d', lw=0, marker='o', markersize=5,\n",
    "           label='Asian, African, and South American countries')\n",
    "]\n",
    "\n",
    "fig = plt.figure(figsize=(5*cm, 1*cm))\n",
    "ax = plt.gca()\n",
    "ax.legend(handles=legend_elements, loc='upper right', ncol=2)\n",
    "ax.set_xticks([])\n",
    "ax.set_yticks([])\n",
    "\n",
    "ax.spines['right'].set_visible(False)\n",
    "ax.spines['left'].set_visible(False)\n",
    "ax.spines['top'].set_visible(False)\n",
    "ax.spines['bottom'].set_visible(False)\n",
    "\n",
    "plt.savefig('../figures/figure_3a_legend.pdf',bbox_inches = 'tight', pad_inches = 0)"
   ]
  },
  {
   "cell_type": "code",
   "execution_count": 61,
   "id": "17c8a079",
   "metadata": {},
   "outputs": [
    {
     "data": {
      "text/html": [
       "<div>\n",
       "<style scoped>\n",
       "    .dataframe tbody tr th:only-of-type {\n",
       "        vertical-align: middle;\n",
       "    }\n",
       "\n",
       "    .dataframe tbody tr th {\n",
       "        vertical-align: top;\n",
       "    }\n",
       "\n",
       "    .dataframe thead th {\n",
       "        text-align: right;\n",
       "    }\n",
       "</style>\n",
       "<table border=\"1\" class=\"dataframe\">\n",
       "  <thead>\n",
       "    <tr style=\"text-align: right;\">\n",
       "      <th></th>\n",
       "      <th>index</th>\n",
       "      <th>country</th>\n",
       "      <th>iso</th>\n",
       "      <th>region</th>\n",
       "      <th>JRelative</th>\n",
       "      <th>CI</th>\n",
       "      <th>pValue</th>\n",
       "      <th>Count</th>\n",
       "      <th>Color</th>\n",
       "    </tr>\n",
       "  </thead>\n",
       "  <tbody>\n",
       "    <tr>\n",
       "      <th>0</th>\n",
       "      <td>0</td>\n",
       "      <td>Lithuania</td>\n",
       "      <td>LT</td>\n",
       "      <td>Europe</td>\n",
       "      <td>-0.045999</td>\n",
       "      <td>0.034217</td>\n",
       "      <td>8.491601e-03</td>\n",
       "      <td>689</td>\n",
       "      <td>#69bade</td>\n",
       "    </tr>\n",
       "    <tr>\n",
       "      <th>1</th>\n",
       "      <td>1</td>\n",
       "      <td>Croatia</td>\n",
       "      <td>HR</td>\n",
       "      <td>Europe</td>\n",
       "      <td>-0.045247</td>\n",
       "      <td>0.032914</td>\n",
       "      <td>7.115635e-03</td>\n",
       "      <td>765</td>\n",
       "      <td>#69bade</td>\n",
       "    </tr>\n",
       "    <tr>\n",
       "      <th>2</th>\n",
       "      <td>2</td>\n",
       "      <td>Slovenia</td>\n",
       "      <td>SI</td>\n",
       "      <td>Europe</td>\n",
       "      <td>-0.038639</td>\n",
       "      <td>0.029103</td>\n",
       "      <td>9.309806e-03</td>\n",
       "      <td>1097</td>\n",
       "      <td>#69bade</td>\n",
       "    </tr>\n",
       "    <tr>\n",
       "      <th>3</th>\n",
       "      <td>3</td>\n",
       "      <td>Japan</td>\n",
       "      <td>JP</td>\n",
       "      <td>Asia</td>\n",
       "      <td>-0.033732</td>\n",
       "      <td>0.006381</td>\n",
       "      <td>4.140186e-25</td>\n",
       "      <td>26687</td>\n",
       "      <td>#f34d4d</td>\n",
       "    </tr>\n",
       "    <tr>\n",
       "      <th>4</th>\n",
       "      <td>4</td>\n",
       "      <td>Italy</td>\n",
       "      <td>IT</td>\n",
       "      <td>Europe</td>\n",
       "      <td>-0.030226</td>\n",
       "      <td>0.006074</td>\n",
       "      <td>1.923069e-22</td>\n",
       "      <td>27314</td>\n",
       "      <td>#69bade</td>\n",
       "    </tr>\n",
       "  </tbody>\n",
       "</table>\n",
       "</div>"
      ],
      "text/plain": [
       "   index    country iso  region  JRelative        CI        pValue  Count  \\\n",
       "0      0  Lithuania  LT  Europe  -0.045999  0.034217  8.491601e-03    689   \n",
       "1      1    Croatia  HR  Europe  -0.045247  0.032914  7.115635e-03    765   \n",
       "2      2   Slovenia  SI  Europe  -0.038639  0.029103  9.309806e-03   1097   \n",
       "3      3      Japan  JP    Asia  -0.033732  0.006381  4.140186e-25  26687   \n",
       "4      4      Italy  IT  Europe  -0.030226  0.006074  1.923069e-22  27314   \n",
       "\n",
       "     Color  \n",
       "0  #69bade  \n",
       "1  #69bade  \n",
       "2  #69bade  \n",
       "3  #f34d4d  \n",
       "4  #69bade  "
      ]
     },
     "execution_count": 61,
     "metadata": {},
     "output_type": "execute_result"
    }
   ],
   "source": [
    "toPlotDelayAll.head()"
   ]
  },
  {
   "cell_type": "code",
   "execution_count": 64,
   "id": "097009ab",
   "metadata": {},
   "outputs": [],
   "source": [
    "toPlotDelayAll.to_csv(DATADIR + 'acpt_delay/Countries.tsv', sep='\\t', columns=['country','iso'], index=False)"
   ]
  },
  {
   "cell_type": "markdown",
   "id": "b43256b1",
   "metadata": {},
   "source": [
    "# Figure 3b"
   ]
  },
  {
   "cell_type": "code",
   "execution_count": 37,
   "id": "332d8e9b",
   "metadata": {},
   "outputs": [],
   "source": [
    "from scipy.stats import pearsonr"
   ]
  },
  {
   "cell_type": "code",
   "execution_count": 33,
   "id": "b348797d",
   "metadata": {},
   "outputs": [
    {
     "data": {
      "text/plain": [
       "((1908, 6), 0, 20)"
      ]
     },
     "execution_count": 33,
     "metadata": {},
     "output_type": "execute_result"
    }
   ],
   "source": [
    "toPlot = (\n",
    "    delay.groupby(['iso','region','Year']).JRelative.mean().reset_index()\n",
    "    .merge(\n",
    "        delay.groupby(['iso','region','Year']).JRelative\n",
    "        .apply(lambda x: ttest_1samp(x, 0).pvalue if len(x) >=2 else np.nan)\n",
    "        .reset_index().rename(columns={'JRelative':'p'}), on=['iso','region','Year']\n",
    "    )\n",
    "    .merge(colorsDf, on='region')\n",
    "    \n",
    "    .query('Year >= 2000')\n",
    "    .query('Year <= 2020')\n",
    "    .assign(Year = lambda df: df.Year - 2000)\n",
    ")\n",
    "assert(toPlot.Year.min()==0)\n",
    "toPlot.shape, toPlot.Year.min(), toPlot.Year.max()"
   ]
  },
  {
   "cell_type": "code",
   "execution_count": 38,
   "id": "46549ec8",
   "metadata": {},
   "outputs": [
    {
     "name": "stdout",
     "output_type": "stream",
     "text": [
      "CPU times: user 7.21 ms, sys: 1.01 ms, total: 8.23 ms\n",
      "Wall time: 8.03 ms\n"
     ]
    }
   ],
   "source": [
    "%%time\n",
    "redPearson = pearsonr(toPlot.query('Color == \"#f34d4d\"').Year,\n",
    "         toPlot.query('Color == \"#f34d4d\"').JRelative)\n",
    "\n",
    "bluePearson = pearsonr(toPlot.query('Color == \"#69bade\"').Year,\n",
    "         toPlot.query('Color == \"#69bade\"').JRelative)"
   ]
  },
  {
   "cell_type": "code",
   "execution_count": 42,
   "id": "0065ff98",
   "metadata": {},
   "outputs": [
    {
     "data": {
      "image/png": "[encoded data removed]",
      "text/plain": [
       "<Figure size 314.961x236.22 with 1 Axes>"
      ]
     },
     "metadata": {},
     "output_type": "display_data"
    }
   ],
   "source": [
    "plt.figure(figsize=(8*cm, 6*cm))\n",
    "ax = plt.gca()\n",
    "\n",
    "g = sns.boxplot(data=toPlot.query('p < 0.05'), x=\"Year\", y=\"JRelative\", hue=\"Color\", showfliers=False,\n",
    "            palette={\"#f34d4d\":\"#f34d4d\", \"#69bade\":\"#69bade\"}, linewidth=0.5, width=0.7,saturation=1,\n",
    "            showmeans=True,meanprops={\"markeredgecolor\": \"#cab2d6\", \"markersize\": \"1.5\", 'markerfacecolor': '#cab2d6'},\n",
    "            )\n",
    "g.legend_.remove()\n",
    "\n",
    "ax.set_ylim(-0.46, 0.7)\n",
    "ax.set_xlim(9.5, 19.5)\n",
    "\n",
    "ax.set_xticks([10, 12, 14, 16, 18, 20])\n",
    "ax.set_xticklabels([2010, 2012, 2014, 2016, 2018, 2020])\n",
    "\n",
    "ax.set_yticks([-0.4, -0.2, 0, 0.2, 0.4])\n",
    "ax.set_yticklabels(['-40%', '-20%', '0%', '20%', '40%'])\n",
    "\n",
    "ax.spines['top'].set_visible(False)\n",
    "ax.spines['right'].set_visible(False)\n",
    "ax.spines['left'].set_bounds((-0.46, 0.43))\n",
    "\n",
    "ax.set_ylabel('') # Relative acceptance delay\n",
    "ax.set_xlabel('')\n",
    "\n",
    "plt.savefig('../figures/figure_3b.pdf',bbox_inches = 'tight', pad_inches = 0)"
   ]
  },
  {
   "cell_type": "markdown",
   "id": "a72ed784",
   "metadata": {},
   "source": [
    "# SI Figure 3"
   ]
  },
  {
   "cell_type": "code",
   "execution_count": 82,
   "id": "5f1a54e3",
   "metadata": {},
   "outputs": [],
   "source": [
    "import geopandas\n",
    "import math"
   ]
  },
  {
   "cell_type": "code",
   "execution_count": 93,
   "id": "1d9e36a1",
   "metadata": {},
   "outputs": [],
   "source": [
    "iso2to3 = (\n",
    "    pd.read_csv(DATADIR + 'worldcities.csv',usecols=['iso2','iso3'])\n",
    "    .drop_duplicates()\n",
    "    .rename(columns={'iso2':'iso'})\n",
    ")\n",
    "assert(iso2to3.iso3.duplicated().any() == False)\n",
    "assert(iso2to3.iso.duplicated().any() == False)"
   ]
  },
  {
   "cell_type": "code",
   "execution_count": 83,
   "id": "d8d8a5fd",
   "metadata": {},
   "outputs": [
    {
     "name": "stdout",
     "output_type": "stream",
     "text": [
      "(177, 4)\n",
      "Remove Antarctica (176, 2)\n",
      "Remove unrecognized countries (173, 2)\n",
      "One China (172, 2)\n"
     ]
    }
   ],
   "source": [
    "path_to_data = geopandas.datasets.get_path(\"naturalearth_lowres\")\n",
    "world = (\n",
    "    geopandas.read_file(path_to_data)\n",
    "    .rename(columns={'iso_a3':'iso3'})\n",
    "    .drop(['pop_est', 'gdp_md_est'], axis=1)\n",
    ")\n",
    "print(world.shape)\n",
    "\n",
    "world.loc[world.name == 'Taiwan', 'iso3'] = 'CHN'\n",
    "world.loc[world.name == 'Norway', 'iso3'] = 'NOR'\n",
    "world.loc[world.name == 'France', 'iso3'] = 'FRA'\n",
    "world = world[world.continent != 'Antarctica']\n",
    "world = world.drop(['continent','name'], axis=1)\n",
    "print('Remove Antarctica', world.shape)\n",
    "\n",
    "world = world.query('iso3 != \"-99\"')\n",
    "print('Remove unrecognized countries', world.shape)\n",
    "\n",
    "world = world.dissolve(by='iso3').reset_index()\n",
    "print('One China', world.shape)"
   ]
  },
  {
   "cell_type": "code",
   "execution_count": 97,
   "id": "d76dcfca",
   "metadata": {},
   "outputs": [],
   "source": [
    "def assignColor(row, col, baseline):\n",
    "    try:\n",
    "        diff = baseline-int(row[col]) # difference between the current bin and the baseline bin\n",
    "        assert(4-diff >=0 and 4-diff < 10) # 10 being the total number of colors\n",
    "        \n",
    "        return colorSeq[4 - diff] # 4 is the index of the last green color\n",
    "    except Exception as e:\n",
    "        \n",
    "        print('ERROR', e)\n",
    "        return np.nan"
   ]
  },
  {
   "cell_type": "code",
   "execution_count": 98,
   "id": "df5d6e7a",
   "metadata": {},
   "outputs": [],
   "source": [
    "def getPercentile(df, col, N, cutoff=None):\n",
    "    \n",
    "    # N: number of percentile bins\n",
    "    # cutoff: below and above cutoff should be two different colors\n",
    "    \n",
    "    df = (\n",
    "        df\n",
    "        .assign(percentile = lambda df: \n",
    "                  df[col].rank(pct=True, method='max')\n",
    "                  .apply(lambda x: math.ceil((x*N))) # round up percentile score\n",
    "                 )\n",
    "        .rename(columns={'percentile': f'{col}_Q'})\n",
    "    )\n",
    "    binsDf = None\n",
    "    \n",
    "    if cutoff is not None:\n",
    "        \n",
    "        # split the bin that contains cutoff into 2\n",
    "        \n",
    "        bins = df.groupby(f'{col}_Q')[col].max().reset_index().set_index(f'{col}_Q').to_dict()[col]\n",
    "        \n",
    "        ### add 1 as a bin cutoff, and shift all following bin index by 1 ###\n",
    "        prev = None\n",
    "        midInd = None # index of the last bin below cutoff\n",
    "        \n",
    "        for i in range(min(bins.keys()), N+1):\n",
    "            if bins[i] > cutoff:\n",
    "                if prev is None:\n",
    "                    midInd = i\n",
    "                    prev=bins[i]\n",
    "                    bins[i] = cutoff\n",
    "                else:\n",
    "                    bins[i], prev = prev, bins[i]\n",
    "        bins[N+1] = prev\n",
    "        \n",
    "        binsDf = (\n",
    "            pd.DataFrame.from_dict(bins, orient='index', columns=[f'{col}_max'])\n",
    "            .reset_index().rename(columns={'index': f'{col}_Q'})\n",
    "            .assign(Color = lambda df: df.apply(lambda row: assignColor(row, f'{col}_Q', baseline=midInd), axis=1))\n",
    "        )\n",
    "        ######\n",
    "        \n",
    "        df = df.drop([f'{col}_Q'], axis=1)\n",
    "        cols = df.columns.to_list()\n",
    "        \n",
    "        df = (\n",
    "            df\n",
    "            .assign(key=1).merge(binsDf.assign(key=1), on='key')\n",
    "            .query(f'{col} <= {col}_max')\n",
    "            .groupby(cols)[f'{col}_Q'].min().reset_index()\n",
    "            \n",
    "            .merge(binsDf[[f'{col}_Q', 'Color']], on=f'{col}_Q')\n",
    "        )\n",
    "    \n",
    "    return df, binsDf"
   ]
  },
  {
   "cell_type": "code",
   "execution_count": 90,
   "id": "4b181300",
   "metadata": {},
   "outputs": [],
   "source": [
    "def plotMap(df, pub, world, ax=None, figsize=(24*cm, 6*cm)):\n",
    "    \n",
    "    if pub == 'all': pass\n",
    "    else:\n",
    "        df = df.query(f'Publisher == \"{pub}\"')\n",
    "    \n",
    "    paperByCountry = (\n",
    "        pd.read_csv(DATADIR + 'acpt_delay/CountryPaperCount.tsv',sep='\\t')\n",
    "        .query('Count >= 10')\n",
    "    )\n",
    "    print('paper count by country (>=10)', paperByCountry.shape) # 167 # 170\n",
    "        \n",
    "    timeByCountry = (\n",
    "        df\n",
    "\n",
    "        .groupby(['country','iso','region']).JRelative.mean().reset_index()\n",
    "        .merge(\n",
    "            delay.groupby(['country','iso','region']).JRelative.apply(CI)\n",
    "            .reset_index().rename(columns={'JRelative':'CI'}), on=['country','iso','region']\n",
    "        )\n",
    "        .assign(pValue = lambda df: df.iso.apply(calcPbyISO))\n",
    "        .merge(paperByCountry, on=['country', 'iso'])\n",
    "    )\n",
    "    print('Average acceptance delay of each country', timeByCountry.shape) # 138\n",
    "    \n",
    "    world = (\n",
    "        world.merge(iso2to3, on='iso3')\n",
    "        .merge(timeByCountry, on='iso')#, how='left'\n",
    "    )\n",
    "    print('acceptance delay of country', world.shape)\n",
    "\n",
    "    numBins=5\n",
    "\n",
    "    relativeBins, bins = getPercentile(\n",
    "        world.query('pValue < 0.01')[['iso3','JRelative']],\n",
    "        'JRelative', numBins, 0\n",
    "    )\n",
    "\n",
    "    assert(relativeBins.shape[0] ==  world.query('pValue < 0.01').shape[0])\n",
    "    if numBins + 1 != bins.shape[0]:\n",
    "        print('warning! number of bins', bins.shape[0])\n",
    "\n",
    "    world = (\n",
    "        pd.concat([\n",
    "            world.query('pValue < 0.01').merge(relativeBins.drop(['JRelative'], axis=1), on='iso3'),\n",
    "            world.query('pValue >= 0.01').assign(Color='lightgrey')\n",
    "        ], ignore_index=True, sort=False)\n",
    "    )\n",
    "\n",
    "    print(world.shape, 'should be the same as before')\n",
    "    \n",
    "    if ax is None: ax = plt.gca()\n",
    "\n",
    "    set_size(figsize[0], figsize[1], ax)\n",
    "\n",
    "    world.plot(ax = ax, color=world.Color)\n",
    "\n",
    "    ax.set_xticks([])\n",
    "    ax.set_yticks([])\n",
    "\n",
    "    ax.spines['right'].set_visible(False)\n",
    "    ax.spines['top'].set_visible(False)\n",
    "    ax.spines['bottom'].set_visible(False)\n",
    "    ax.spines['left'].set_visible(False)\n",
    "    \n",
    "    return bins, world"
   ]
  },
  {
   "cell_type": "code",
   "execution_count": 91,
   "id": "f10069d6",
   "metadata": {},
   "outputs": [],
   "source": [
    "def plotPallete(cSeq, labels, world, ax=None, vertical=False, scale=1):\n",
    "    \n",
    "    n = len(cSeq)\n",
    "    labels = [world.query('pValue < 0.01').JRelative.min()] + labels\n",
    "    \n",
    "    labels = [f'{round(x*100, 0):g}%' for x in labels]\n",
    "    \n",
    "    if vertical:\n",
    "        if ax is None:\n",
    "            \n",
    "            ax = plt.gca()\n",
    "            set_size(1*cm*scale, n*cm*scale)\n",
    "    \n",
    "        ax.set_ylim(0, n)\n",
    "        ax.set_xlim(0, 1)\n",
    "        ax.set_xticks([])\n",
    "        \n",
    "        ax.set_yticks([x for x in range(n+1)])\n",
    "        ax.set_yticklabels(labels)#[f\"{round(x, 2):g}\" for x in labels])\n",
    "        \n",
    "        for i in range(n):\n",
    "            ax.fill_between([0, 1], i, i+1, facecolor=cSeq[i])\n",
    "    else:\n",
    "        \n",
    "        if ax is None:\n",
    "            \n",
    "            ax = plt.gca()\n",
    "            set_size(1*cm*scale, n*cm*scale)\n",
    "            \n",
    "        set_size(n*cm*scale, 1*cm*scale)\n",
    "    \n",
    "        ax.set_xlim(0, n)\n",
    "        ax.set_ylim(0, 1)\n",
    "        ax.set_yticks([])\n",
    "        \n",
    "        ax.set_xticks([x for x in range(n+1)])\n",
    "        ax.set_xticklabels(labels)\n",
    "    \n",
    "        for i in range(n):\n",
    "            ax.fill_between([i, i+1], 0, 1, facecolor=cSeq[i])"
   ]
  },
  {
   "cell_type": "code",
   "execution_count": 100,
   "id": "d14ee74f",
   "metadata": {},
   "outputs": [
    {
     "data": {
      "text/plain": [
       "10"
      ]
     },
     "execution_count": 100,
     "metadata": {},
     "output_type": "execute_result"
    }
   ],
   "source": [
    "colorSeq = [\n",
    "    'black',\n",
    "    '#543005', \n",
    "    '#8c510a', \n",
    "    '#bf812d', \n",
    "    '#dfc27d', \n",
    "    '#80cdc1', \n",
    "    '#35978f', \n",
    "    '#01665e', \n",
    "    '#003c30',\n",
    "    'black',\n",
    "]\n",
    "\n",
    "colorSeq = colorSeq[-1::-1]\n",
    "len(colorSeq)"
   ]
  },
  {
   "cell_type": "code",
   "execution_count": 101,
   "id": "b898ddc3",
   "metadata": {},
   "outputs": [
    {
     "name": "stdout",
     "output_type": "stream",
     "text": [
      "paper count by country (>=10) (138, 3)\n",
      "Average acceptance delay of each country (138, 7)\n",
      "acceptance delay of country (128, 9)\n",
      "(128, 11) should be the same as before\n"
     ]
    },
    {
     "data": {
      "image/png": "[encoded data removed]",
      "text/plain": [
       "<Figure size 1219.2x306.78 with 1 Axes>"
      ]
     },
     "metadata": {},
     "output_type": "display_data"
    }
   ],
   "source": [
    "bins, mapWorld = plotMap(delay, 'all', world)"
   ]
  },
  {
   "cell_type": "code",
   "execution_count": 102,
   "id": "ba717f74",
   "metadata": {},
   "outputs": [
    {
     "data": {
      "image/png": "[encoded data removed]",
      "text/plain": [
       "<Figure size 182.88x30.678 with 1 Axes>"
      ]
     },
     "metadata": {},
     "output_type": "display_data"
    }
   ],
   "source": [
    "plotPallete(bins.Color, list(bins.JRelative_max), mapWorld, vertical=False, scale=0.6)"
   ]
  },
  {
   "cell_type": "code",
   "execution_count": 106,
   "id": "c900ff76",
   "metadata": {},
   "outputs": [
    {
     "name": "stdout",
     "output_type": "stream",
     "text": [
      "\\begin{tabular}{lllr}\n",
      " & Country & Average RAD & No. papers \\\\\n",
      "34 & U.S.A. & -2.12% & 170104 \\\\\n",
      "53 & China & 0.3% & 168039 \\\\\n",
      "61 & Germany & 0.02% & 38358 \\\\\n",
      "70 & U.K. & -0.32% & 34582 \\\\\n",
      "14 & Italy & -3.02% & 27314 \\\\\n",
      "16 & Japan & -3.37% & 26687 \\\\\n",
      "51 & Canada & 0.49% & 21950 \\\\\n",
      "7 & Spain & -2.89% & 21518 \\\\\n",
      "69 & France & -0.78% & 20077 \\\\\n",
      "18 & Korea, South & -1.15% & 19623 \\\\\n",
      "\\end{tabular}\n",
      "\n"
     ]
    }
   ],
   "source": [
    "# supplementary table 3\n",
    "print(\n",
    "    mapWorld[['country','JRelative','Count']].sort_values(by='Count',ascending=False)\n",
    "    .assign(JRelative=lambda df: df.JRelative.apply(lambda x: f'{round(x*100, 2)}%'))\n",
    "    \n",
    "    .head(10) # remove this to see all countries\n",
    "    .rename(columns={'country':'Country','JRelative':'Average RAD','Count':'No. papers'})\n",
    "    .style.to_latex()\n",
    ")"
   ]
  },
  {
   "cell_type": "markdown",
   "id": "519f2260",
   "metadata": {},
   "source": [
    "# SI Figure 6"
   ]
  },
  {
   "cell_type": "code",
   "execution_count": 49,
   "id": "d7602cdf",
   "metadata": {},
   "outputs": [],
   "source": [
    "from tqdm.notebook import tqdm"
   ]
  },
  {
   "cell_type": "code",
   "execution_count": 54,
   "id": "29ce2d89",
   "metadata": {},
   "outputs": [],
   "source": [
    "def discipTstat():\n",
    "    \n",
    "    res = []\n",
    "    for field in tqdm(fieldDelay.FieldName.unique()):\n",
    "        \n",
    "        subset = fieldDelay.query(f'FieldName == \"{field}\"')\n",
    "        red = subset.query('Color == \"#f34d4d\"')\n",
    "        blue = subset.query('Color == \"#69bade\"')\n",
    "    \n",
    "        test = ttest_ind(red.JRelative, blue.JRelative, equal_var=False, permutations=5000, random_state=42)\n",
    "    \n",
    "        res.append((field, test[0], test[1]))\n",
    "    \n",
    "    \n",
    "    return res"
   ]
  },
  {
   "cell_type": "code",
   "execution_count": 55,
   "id": "34b1c639",
   "metadata": {},
   "outputs": [],
   "source": [
    "fieldDelay = pd.read_csv(DATADIR + 'acpt_delay/PaperFieldDelay.tsv',sep='\\t')"
   ]
  },
  {
   "cell_type": "code",
   "execution_count": 56,
   "id": "d526450a",
   "metadata": {},
   "outputs": [
    {
     "data": {
      "text/plain": [
       "(1676400, 4)"
      ]
     },
     "execution_count": 56,
     "metadata": {},
     "output_type": "execute_result"
    }
   ],
   "source": [
    "fieldDelay.shape"
   ]
  },
  {
   "cell_type": "code",
   "execution_count": 59,
   "id": "e9e82787",
   "metadata": {},
   "outputs": [
    {
     "data": {
      "application/vnd.jupyter.widget-view+json": {
       "model_id": "b9d093ccbaf449148c09a1af7f4ed995",
       "version_major": 2,
       "version_minor": 0
      },
      "text/plain": [
       "  0%|          | 0/19 [00:00<?, ?it/s]"
      ]
     },
     "metadata": {},
     "output_type": "display_data"
    },
    {
     "name": "stdout",
     "output_type": "stream",
     "text": [
      "CPU times: user 3min 55s, sys: 1min 32s, total: 5min 28s\n",
      "Wall time: 5min 29s\n"
     ]
    }
   ],
   "source": [
    "%%time\n",
    "fieldMean = discipTstat()"
   ]
  },
  {
   "cell_type": "code",
   "execution_count": 68,
   "id": "25683fbc",
   "metadata": {},
   "outputs": [],
   "source": [
    "def plotDiscpline(sortedField, df=fieldDelay):\n",
    "    \n",
    "    row=4\n",
    "    col=5\n",
    "    \n",
    "    axes = [plt.subplot(row, col, x+1) for x in range(19)]\n",
    "    ymin, ymax = 0, 0\n",
    "    \n",
    "    for ind, field in tqdm(enumerate(sortedField)):\n",
    "        \n",
    "        sns.pointplot(\n",
    "            data=fieldDelay.query(f'FieldName == \"{field}\"'), x='Color', y='JRelative', ax=axes[ind],\n",
    "            join=False, order=['#f34d4d','#69bade'], palette={'#f34d4d':'#f34d4d','#69bade':'#69bade'},\n",
    "            errwidth=0.5, capsize=0.2, scale=0.2\n",
    "        )\n",
    "        \n",
    "        ylo, yhi = axes[ind].get_ylim()\n",
    "        ymax = max(ymax, yhi)\n",
    "        ymin = min(ymin, ylo)\n",
    "        \n",
    "        axes[ind].set_title(field.replace(' ','\\n'), fontsize=6)\n",
    "        axes[ind].set_ylabel('Relative acceptance delay')\n",
    "        \n",
    "        testAndPlot(field, ax=axes[ind], height=yhi)\n",
    "        \n",
    "    for ind, ax in enumerate(axes):\n",
    "        ax.set_ylim(ymin*1.2, ymax*1.2)\n",
    "        ax.set_xticklabels([])\n",
    "        ax.set_xticks([])\n",
    "        \n",
    "        if ind % col != 0:\n",
    "            ax.set_ylabel('')\n",
    "            ax.set_yticklabels([])\n",
    "            \n",
    "        ax.set_xlabel('')\n",
    "        ax.spines['top'].set_visible(False)\n",
    "        ax.spines['right'].set_visible(False)\n",
    "        \n",
    "    plt.tight_layout()"
   ]
  },
  {
   "cell_type": "code",
   "execution_count": 69,
   "id": "87b81051",
   "metadata": {},
   "outputs": [],
   "source": [
    "def plotPvalue(ax, x, height, pVal, gap, vlength, lw=0.2, c='black'):\n",
    "    # x: [x0, x1]\n",
    "    # y: [y0, y1]\n",
    "    \n",
    "    yPos = height + gap + vlength\n",
    "    ax.hlines(yPos, x[0], x[1], color=c, lw=lw)\n",
    "    ax.vlines(x[0], height + gap, yPos, color=c, lw=lw)\n",
    "    ax.vlines(x[1], height + gap, yPos, color=c, lw=lw)\n",
    "    \n",
    "    stars = '$p$ < 0.001' if pVal < 0.001 else f'$p$ = {round(pVal, 3)}'\n",
    "    offset = 0.01 if pVal < 0.05 else 0.04\n",
    "    \n",
    "    ax.text((x[0] + x[1])/2, yPos , stars, ha='center', va='bottom', color=c)\n",
    "    \n",
    "    return yPos"
   ]
  },
  {
   "cell_type": "code",
   "execution_count": 70,
   "id": "4e8a4120",
   "metadata": {},
   "outputs": [],
   "source": [
    "def testAndPlot(field, ax, height):\n",
    "    \n",
    "    test = ttest_ind(\n",
    "        fieldDelay.query(f'FieldName == \"{field}\"').query('Color == \"#f34d4d\"').JRelative,\n",
    "        fieldDelay.query(f'FieldName == \"{field}\"').query('Color == \"#69bade\"').JRelative,\n",
    "        equal_var=False\n",
    "    )\n",
    "    \n",
    "    height = plotPvalue(ax, [0, 1], height, test[1], 0.002, 0.008, lw=0.2, c='black')"
   ]
  },
  {
   "cell_type": "code",
   "execution_count": 71,
   "id": "b3c6f2b9",
   "metadata": {},
   "outputs": [
    {
     "data": {
      "application/vnd.jupyter.widget-view+json": {
       "model_id": "5ec9d9d7cbca4b42a7e3ff093b0cc1e4",
       "version_major": 2,
       "version_minor": 0
      },
      "text/plain": [
       "0it [00:00, ?it/s]"
      ]
     },
     "metadata": {},
     "output_type": "display_data"
    },
    {
     "name": "stdout",
     "output_type": "stream",
     "text": [
      "CPU times: user 19 s, sys: 212 ms, total: 19.2 s\n",
      "Wall time: 19.1 s\n"
     ]
    },
    {
     "data": {
      "image/png": "[encoded data removed]",
      "text/plain": [
       "<Figure size 590.551x669.291 with 19 Axes>"
      ]
     },
     "metadata": {},
     "output_type": "display_data"
    }
   ],
   "source": [
    "%%time\n",
    "plt.figure(figsize=(15*cm, 17*cm))\n",
    "plotDiscpline([x for x, _, _ in sorted(fieldMean, key=lambda x: x[1])])"
   ]
  },
  {
   "cell_type": "markdown",
   "id": "931fe30a",
   "metadata": {},
   "source": [
    "# Figure 2e"
   ]
  },
  {
   "cell_type": "code",
   "execution_count": 76,
   "id": "05112306",
   "metadata": {},
   "outputs": [],
   "source": [
    "interaction = pd.read_csv(DATADIR + 'acpt_delay/CountryInteraction.tsv',sep='\\t')"
   ]
  },
  {
   "cell_type": "code",
   "execution_count": 77,
   "id": "e60401a0",
   "metadata": {},
   "outputs": [],
   "source": [
    "def countryttest(country):\n",
    "    \n",
    "    sub = interaction.query(f'country == \"{country}\"')\n",
    "    ttest = ttest_ind(sub.query('SameCountry == True').JRelative,\n",
    "                      sub.query('SameCountry == False').JRelative, equal_var=False)\n",
    "    \n",
    "    return ttest[0], ttest[1]\n",
    "\n",
    "countryOrder = sorted(\n",
    "    [(country, countryttest(country)[0], countryttest(country)[1])\n",
    "     for country in interaction.country.unique()], key=lambda x: x[1]\n",
    ")\n",
    "countryOrderSig = [x for x, _, p in countryOrder if p < 0.05]\n",
    "countryOrderInSig = [x for x, _, p in countryOrder if p >= 0.05]"
   ]
  },
  {
   "cell_type": "code",
   "execution_count": 78,
   "id": "89570089",
   "metadata": {},
   "outputs": [
    {
     "data": {
      "text/plain": [
       "(13, 50)"
      ]
     },
     "execution_count": 78,
     "metadata": {},
     "output_type": "execute_result"
    }
   ],
   "source": [
    "len(countryOrderSig), len(countryOrderInSig)"
   ]
  },
  {
   "cell_type": "code",
   "execution_count": 80,
   "id": "0c353f2d",
   "metadata": {},
   "outputs": [
    {
     "data": {
      "image/png": "[encoded data removed]",
      "text/plain": [
       "<Figure size 314.961x236.22 with 1 Axes>"
      ]
     },
     "metadata": {},
     "output_type": "display_data"
    }
   ],
   "source": [
    "plt.figure(figsize=(8*cm, 6*cm))\n",
    "ax = plt.gca()\n",
    "\n",
    "\n",
    "sns.barplot(data=interaction, y='JRelative', x='country', hue='SameCountry', ax=ax,\n",
    "            errwidth=0.5, alpha=0.8, capsize=0.2, \n",
    "            order=countryOrderSig)\n",
    "\n",
    "ax.tick_params(rotation=90, axis='x')\n",
    "\n",
    "ax.spines['top'].set_visible(False)\n",
    "ax.spines['right'].set_visible(False)\n",
    "ax.set_xlabel('')\n",
    "ax.set_ylabel('')\n",
    "\n",
    "ax.set_yticks([-0.4, -0.2, 0, 0.2, 0.4, 0.6])\n",
    "ax.set_yticklabels(['-40%', '-20%', '0%', '20%', '40%', '60%'])\n",
    "plt.savefig('../figures/figure_3e.pdf',bbox_inches = 'tight', pad_inches = 0)"
   ]
  },
  {
   "cell_type": "markdown",
   "id": "0a08bba2",
   "metadata": {},
   "source": [
    "## SI Figure 7"
   ]
  },
  {
   "cell_type": "code",
   "execution_count": 81,
   "id": "b13359f4",
   "metadata": {},
   "outputs": [
    {
     "data": {
      "image/png": "[encoded data removed]",
      "text/plain": [
       "<Figure size 590.551x708.661 with 2 Axes>"
      ]
     },
     "metadata": {},
     "output_type": "display_data"
    }
   ],
   "source": [
    "plt.figure(figsize=(15*cm, 18*cm))\n",
    "\n",
    "ax = plt.subplot(1, 2, 1)\n",
    "sns.barplot(data=interaction, x='JRelative', y='country', hue='SameCountry', errwidth=0.5, ax=ax, \n",
    "            order=countryOrderSig)\n",
    "\n",
    "ax.spines['top'].set_visible(False)\n",
    "ax.spines['right'].set_visible(False)\n",
    "ax.set_xlabel('Relative acceptance delay')\n",
    "ax.set_ylabel('')\n",
    "\n",
    "## plot a line seperating positive t's from negative t's ##\n",
    "xlim = ax.get_xlim()\n",
    "ylim = ax.get_ylim()\n",
    "\n",
    "ax.plot(xlim, [11.5, 11.5], ls='--', lw=1, color='gray')\n",
    "\n",
    "ax.set_ylim(ylim)\n",
    "ax.set_xlim(xlim)\n",
    "####\n",
    "\n",
    "ax = plt.subplot(1, 2, 2)\n",
    "sns.barplot(data=interaction, x='JRelative', y='country', hue='SameCountry', errwidth=0.5, ax=ax,\n",
    "            order=countryOrderInSig)\n",
    "\n",
    "ax.spines['top'].set_visible(False)\n",
    "ax.spines['right'].set_visible(False)\n",
    "ax.set_xlabel('Relative acceptance delay')\n",
    "ax.set_ylabel('')\n",
    "\n",
    "plt.tight_layout()"
   ]
  },
  {
   "cell_type": "markdown",
   "id": "987bfd75",
   "metadata": {},
   "source": [
    "# Figure 3c"
   ]
  },
  {
   "cell_type": "code",
   "execution_count": 118,
   "id": "90fe22d2",
   "metadata": {},
   "outputs": [],
   "source": [
    "raceDelay = pd.read_csv(DATADIR + 'acpt_delay/PaperRaceDelay.tsv',sep='\\t')"
   ]
  },
  {
   "cell_type": "code",
   "execution_count": 119,
   "id": "00562ab3",
   "metadata": {},
   "outputs": [],
   "source": [
    "COLOR = {\n",
    "    'White': '#377eb8',\n",
    "    'API': '#4daf4a',\n",
    "    'Hispanic': '#ff7f00',\n",
    "    'Black': '#e41a1c'\n",
    "}"
   ]
  },
  {
   "cell_type": "code",
   "execution_count": 120,
   "id": "50936e5c",
   "metadata": {},
   "outputs": [],
   "source": [
    "def testAndPlot(a, b, ax, height):\n",
    "    \n",
    "    xpos={'White': 0, 'API': 1, \"Hispanic\":2, 'Black': 3}\n",
    "    \n",
    "    test = ttest_ind(raceDelay.query(f'Race == \"{a}\"').JRelative,\n",
    "              raceDelay.query(f'Race == \"{b}\"').JRelative, equal_var=False)\n",
    "    \n",
    "    height = plotPvalue(ax, [xpos[a]+0.01, xpos[b]-0.01], height, test[1], 0.05, 0.1, lw=0.2, c='black')"
   ]
  },
  {
   "cell_type": "code",
   "execution_count": 121,
   "id": "2f53a88b",
   "metadata": {},
   "outputs": [],
   "source": [
    "def plotPvalue(ax, x, height, pVal, gap, vlength, lw=0.2, c='black'):\n",
    "    # x: [x0, x1]\n",
    "    # y: [y0, y1]\n",
    "    \n",
    "    yPos = height + gap + vlength\n",
    "    ax.hlines(yPos, x[0], x[1], color=c, lw=lw)\n",
    "    ax.vlines(x[0], height + gap, yPos, color=c, lw=lw)\n",
    "    ax.vlines(x[1], height + gap, yPos, color=c, lw=lw)\n",
    "    \n",
    "    stars = '$p$ < 0.001' if pVal < 0.001 else f'$p$ = {round(pVal, 3)}'\n",
    "    offset = 0.01 if pVal < 0.05 else 0.04\n",
    "    \n",
    "    ax.text((x[0] + x[1])/2, yPos , stars, ha='center', va='bottom', color=c)\n",
    "    \n",
    "    return yPos"
   ]
  },
  {
   "cell_type": "code",
   "execution_count": 122,
   "id": "7a0c4efe",
   "metadata": {},
   "outputs": [
    {
     "name": "stdout",
     "output_type": "stream",
     "text": [
      "CPU times: user 334 ms, sys: 89.6 ms, total: 424 ms\n",
      "Wall time: 334 ms\n"
     ]
    },
    {
     "data": {
      "image/png": "[encoded data removed]",
      "text/plain": [
       "<Figure size 177.165x236.22 with 1 Axes>"
      ]
     },
     "metadata": {},
     "output_type": "display_data"
    }
   ],
   "source": [
    "%%time\n",
    "plt.figure(figsize=(4.5*cm, 6*cm))\n",
    "\n",
    "ax = plt.gca()\n",
    "\n",
    "sns.boxplot(data=raceDelay, x='Race', y='JRelative', order=['White','API','Hispanic','Black'],\n",
    "            palette=COLOR, showfliers=False, showmeans=True, linewidth=0.5, width=0.7,\n",
    "            meanprops={\"markeredgecolor\": \"#cab2d6\", \"markersize\": \"3\", 'markerfacecolor': '#cab2d6'})\n",
    "\n",
    "ax.set_yticks([-1, -0.5, 0, 0.5, 1])  \n",
    "ax.set_yticklabels(['-100%', '-50%', '0%', '50%', '100%'])\n",
    "\n",
    "ax.spines['top'].set_visible(False)\n",
    "ax.spines['right'].set_visible(False)\n",
    "\n",
    "\n",
    "testAndPlot('White', 'API', ax, 1.12)\n",
    "testAndPlot('API', 'Black', ax, 1.12)\n",
    "\n",
    "\n",
    "testAndPlot('White', 'Hispanic', ax, 1.42)\n",
    "testAndPlot('Hispanic', 'Black', ax, 1.42)\n",
    "\n",
    "testAndPlot('White', 'Black', ax, 1.72)\n",
    "\n",
    "ylim = ax.get_ylim()\n",
    "ax.spines['left'].set_bounds((ylim[0], -ylim[0]))\n",
    "\n",
    "ax.set_xlabel('')\n",
    "ax.set_ylabel('')\n",
    "\n",
    "plt.savefig('../figures/figure_3c.pdf',bbox_inches = 'tight', pad_inches = 0)"
   ]
  },
  {
   "cell_type": "markdown",
   "id": "16bf25e7",
   "metadata": {},
   "source": [
    "# Figure 3d"
   ]
  },
  {
   "cell_type": "code",
   "execution_count": 131,
   "id": "d539ae56",
   "metadata": {},
   "outputs": [],
   "source": [
    "def plotRace(race, ax):\n",
    "    \n",
    "    sub = toPlot.query(f'Race == \"{race}\"')\n",
    "    minYear, maxYear = sub.Year.min(), sub.Year.max()\n",
    "    \n",
    "    sub = sub.assign(Year = lambda df: df.Year - df.Year.min())\n",
    "    \n",
    "    sns.regplot(data=sub,\n",
    "            x='Year', y='JRelative', ax=ax, color=COLOR[race], scatter=False, line_kws={\"lw\": 1}\n",
    "           )\n",
    "    \n",
    "    sns.pointplot(data=sub,\n",
    "              x='Year', y='JRelative', color=COLOR[race], ax=ax, join=False,\n",
    "             errwidth=0.5, capsize=0.2, scale=0.3)\n",
    "    \n",
    "    corr = pearsonr(\n",
    "        toPlot.query(f'Race == \"{race}\"').Year, toPlot.query(f'Race == \"{race}\"').JRelative\n",
    "    )\n",
    "    \n",
    "#     ax.text(0.5, 1, '$r$ = {:.3f}, $p$ = {:.3f}'.format(corr[0], corr[1]), color=COLOR[race])\n",
    "#     print(ax.get_ylim())\n",
    "    \n",
    "    ax.set_ylabel('')\n",
    "    ax.set_xlabel('')\n",
    "    ax.set_ylim(-0.6, 1.68)\n",
    "    \n",
    "    ax.set_xticks([x for x in range(0, maxYear-minYear+1, 5)])\n",
    "    ax.set_xticklabels([f'{x+minYear}' for x in range(0, maxYear-minYear+1, 5)])\n",
    "    \n",
    "    ax.set_yticks([-0.5, 0, 0.5, 1])  \n",
    "    ax.set_yticklabels(['-50%', '0%', '50%', '100%'])\n",
    "    \n",
    "    ax.spines['top'].set_visible(False)\n",
    "    ax.spines['right'].set_visible(False)  \n",
    "    ax.spines['left'].set_bounds((-0.6, 1.1))"
   ]
  },
  {
   "cell_type": "code",
   "execution_count": 132,
   "id": "8d29d33c",
   "metadata": {},
   "outputs": [],
   "source": [
    "toPlot = (\n",
    "    raceDelay\n",
    "    .query('Year >= 2000')\n",
    "    .query('Year <= 2020')\n",
    ")"
   ]
  },
  {
   "cell_type": "code",
   "execution_count": 133,
   "id": "75c68858",
   "metadata": {},
   "outputs": [
    {
     "data": {
      "text/plain": [
       "(22548, 3)"
      ]
     },
     "execution_count": 133,
     "metadata": {},
     "output_type": "execute_result"
    }
   ],
   "source": [
    "toPlot.shape # 40672 # 22548 if all US"
   ]
  },
  {
   "cell_type": "code",
   "execution_count": 134,
   "id": "461a53ff",
   "metadata": {},
   "outputs": [
    {
     "name": "stdout",
     "output_type": "stream",
     "text": [
      "CPU times: user 3.64 s, sys: 367 ms, total: 4 s\n",
      "Wall time: 3.65 s\n"
     ]
    },
    {
     "data": {
      "image/png": "[encoded data removed]",
      "text/plain": [
       "<Figure size 177.165x433.071 with 4 Axes>"
      ]
     },
     "metadata": {},
     "output_type": "display_data"
    }
   ],
   "source": [
    "%%time\n",
    "plt.figure(figsize=(4.5*cm, 11*cm))\n",
    "\n",
    "ax = plt.subplot(4,1,1)\n",
    "plotRace('White', ax)\n",
    "\n",
    "ax = plt.subplot(4,1,2)\n",
    "plotRace('API', ax)\n",
    "\n",
    "ax = plt.subplot(4,1,3)\n",
    "plotRace('Hispanic', ax)\n",
    "\n",
    "ax = plt.subplot(4,1,4)\n",
    "plotRace('Black', ax)\n",
    "\n",
    "plt.tight_layout()\n",
    "plt.savefig('../figures/figure_3d.pdf',bbox_inches = 'tight', pad_inches = 0)"
   ]
  },
  {
   "cell_type": "markdown",
   "id": "bd940cdd",
   "metadata": {},
   "source": [
    "# Figure 3f"
   ]
  },
  {
   "cell_type": "code",
   "execution_count": 138,
   "id": "8a68abab",
   "metadata": {},
   "outputs": [],
   "source": [
    "palette ={True: \"#377eb8\", False: '#a65628'}"
   ]
  },
  {
   "cell_type": "code",
   "execution_count": 139,
   "id": "bf07e864",
   "metadata": {},
   "outputs": [],
   "source": [
    "interaction = pd.read_csv(DATADIR + 'acpt_delay/RaceInteraction.tsv',sep='\\t')"
   ]
  },
  {
   "cell_type": "code",
   "execution_count": 143,
   "id": "53fedf59",
   "metadata": {},
   "outputs": [],
   "source": [
    "def testAndPlot(q0, q1, q2, q3, ax, height):\n",
    "    \n",
    "    xpos={True: {True: -0.2, False: 0.2}, False: {True: 0.8, False: 1.2}}\n",
    "    \n",
    "    test = ttest_ind(\n",
    "        interaction.query(f'PaperIsWhite == {q0}').query(f'EditorIsWhite == {q2}').JRelative,\n",
    "        interaction.query(f'PaperIsWhite == {q1}').query(f'EditorIsWhite == {q3}').JRelative,\n",
    "        equal_var=False\n",
    "    )\n",
    "    \n",
    "    height = plotPvalue(ax, [xpos[q0][q2], xpos[q1][q3]], height, test[1], 0.002, 0.005, lw=0.2, c='black')"
   ]
  },
  {
   "cell_type": "code",
   "execution_count": 144,
   "id": "ef9a9c24",
   "metadata": {},
   "outputs": [
    {
     "name": "stdout",
     "output_type": "stream",
     "text": [
      "CPU times: user 465 ms, sys: 86.4 ms, total: 552 ms\n",
      "Wall time: 460 ms\n"
     ]
    },
    {
     "data": {
      "image/png": "[encoded data removed]",
      "text/plain": [
       "<Figure size 157.48x236.22 with 1 Axes>"
      ]
     },
     "metadata": {},
     "output_type": "display_data"
    }
   ],
   "source": [
    "%%time\n",
    "plt.figure(figsize=(4*cm, 6*cm))\n",
    "matplotlib.rc('font', **{'size': 7})\n",
    "\n",
    "ax = plt.gca()\n",
    "g = sns.barplot(data=interaction, order=[True, False], hue_order=[True, False],\n",
    "            x='PaperIsWhite', hue='EditorIsWhite', y='JRelative', ax=ax,\n",
    "            palette=palette, alpha=0.8, capsize=.2, errwidth=0.5\n",
    "           )\n",
    "\n",
    "ax.set_xticks([0, 1])\n",
    "ax.set_xticklabels(['Papers w/ a\\nmajority of\\nWhite\\nauthors', 'Papers w/ a\\nmajority of\\nnon-White\\nauthors'])\n",
    "ax.set_xlabel('')\n",
    "ax.set_ylabel('Relative acceptance delay')\n",
    "\n",
    "ax.spines['top'].set_visible(False)\n",
    "ax.spines['right'].set_visible(False)\n",
    "ax.set_ylabel('')\n",
    "\n",
    "ax.set_yticks([-0.12, -0.08, -0.04, 0, 0.04, 0.08])\n",
    "ax.set_yticklabels(['-12%','-8%', '-4%', '0%', '4%', '8%'])\n",
    "\n",
    "g.legend_.set_title('Race of editor') # remember to change legend label\n",
    "plt.legend(loc='lower left')\n",
    "\n",
    "\n",
    "\n",
    "testAndPlot(True, True, True, False, ax, height=0.017)\n",
    "testAndPlot(False, False, True, False, ax, height=0.03)\n",
    "\n",
    "testAndPlot(True, False, True, True, ax, height=0.047)\n",
    "testAndPlot(True, False, False, False, ax, height=0.064)\n",
    "\n",
    "lo, hi = ax.get_ylim()\n",
    "\n",
    "ax.fill_between([-0.5, 0.5], [lo, lo], [hi, hi], alpha=0.1, color=palette[True])\n",
    "ax.fill_between([0.5, 1.5], [lo, lo], [hi, hi], alpha=0.1, color=palette[False])\n",
    "\n",
    "ax.set_xlim(-0.5, 1.5)\n",
    "ax.set_ylim(lo, hi)\n",
    "\n",
    "plt.savefig('../figures/figure_3f.pdf',bbox_inches = 'tight', pad_inches = 0)"
   ]
  },
  {
   "cell_type": "markdown",
   "id": "823af910",
   "metadata": {},
   "source": [
    "# SI Figure 9"
   ]
  },
  {
   "cell_type": "code",
   "execution_count": 162,
   "id": "de49a890",
   "metadata": {},
   "outputs": [],
   "source": [
    "from statsmodels.formula.api import ols\n",
    "from scipy.stats import ttest_ind\n",
    "from statsmodels.iolib.summary2 import summary_col"
   ]
  },
  {
   "cell_type": "code",
   "execution_count": 172,
   "id": "8e32358e",
   "metadata": {},
   "outputs": [],
   "source": [
    "nineteenFields = pd.read_csv(DATADIR + 'Fields.tsv', sep='\\t')\n",
    "field_control = ' + '.join(nineteenFields.FieldName.apply(lambda x: '_'.join(x.split())).unique())\n",
    "\n",
    "with open(DATADIR + 'CountryControl.txt', 'r') as f:\n",
    "    country_control = f.read()"
   ]
  },
  {
   "cell_type": "code",
   "execution_count": 173,
   "id": "59ee2ea0",
   "metadata": {},
   "outputs": [],
   "source": [
    "def getRegressionResult(toRegress, US=False):\n",
    "    \n",
    "    model = \"JRelative ~ Total + Year + Age + API+Black+Hispanic + SameRace+SameCountry + C(Rank) +\" + field_control\n",
    "    \n",
    "    if not US:\n",
    "        model = model + ' + ' + country_control\n",
    "        \n",
    "    if US:\n",
    "        toRegress = toRegress.merge(USpapers, on='PaperId')\n",
    "        print('US papers only', toRegress.shape, toRegress.PaperId.nunique())\n",
    "    \n",
    "    model = ols(model, data=toRegress)\n",
    "    results = model.fit(cov_type = 'HAC', cov_kwds={'maxlags':10})\n",
    "    \n",
    "    meanConfInt = (\n",
    "        results.conf_int().assign(Mean = lambda df: (df[0] + df[1])/2)\n",
    "        .rename(columns={0:'lo', 1:'hi'})\n",
    "        .assign(err = lambda df: (df.hi-df.lo)/2)\n",
    "        .reset_index()\n",
    "        .rename(columns={'index':'Race'})\n",
    "        .merge(results.pvalues.reset_index(name='pvalue').rename(columns={'index':'Race'}), on='Race')\n",
    "    )\n",
    "    \n",
    "    return meanConfInt, results"
   ]
  },
  {
   "cell_type": "code",
   "execution_count": 176,
   "id": "97bbe2c3",
   "metadata": {},
   "outputs": [
    {
     "data": {
      "application/vnd.jupyter.widget-view+json": {
       "model_id": "94cebaa9c3ad4b7b906bc9a95c5ed085",
       "version_major": 2,
       "version_minor": 0
      },
      "text/plain": [
       "  0%|          | 0/10 [00:00<?, ?it/s]"
      ]
     },
     "metadata": {},
     "output_type": "display_data"
    },
    {
     "name": "stdout",
     "output_type": "stream",
     "text": [
      "CPU times: user 9.77 s, sys: 1.88 s, total: 11.7 s\n",
      "Wall time: 12.7 s\n"
     ]
    }
   ],
   "source": [
    "%%time\n",
    "paperDf = pd.concat([\n",
    "    pd.read_csv(DATADIR + f'acpt_delay/regression_data/{ind}.tsv',sep='\\t') for ind in tqdm(range(10))\n",
    "], ignore_index=True, sort=False)"
   ]
  },
  {
   "cell_type": "code",
   "execution_count": 177,
   "id": "f94e797f",
   "metadata": {},
   "outputs": [
    {
     "data": {
      "text/plain": [
       "(783790, 216)"
      ]
     },
     "execution_count": 177,
     "metadata": {},
     "output_type": "execute_result"
    }
   ],
   "source": [
    "paperDf.shape"
   ]
  },
  {
   "cell_type": "code",
   "execution_count": 178,
   "id": "f4348eb4",
   "metadata": {},
   "outputs": [
    {
     "data": {
      "text/plain": [
       "array(['JRelative', 'Year', 'Total', 'API', 'Black', 'Hispanic', 'White',\n",
       "       'AE', 'AF', 'AG', 'AL', 'AM', 'AO', 'AR', 'AS', 'AT', 'AU', 'AZ',\n",
       "       'BA', 'BD', 'BE', 'BF', 'BG', 'BH', 'BI', 'BJ', 'BM', 'BN', 'BO',\n",
       "       'BR', 'BS', 'BT', 'BW', 'BY', 'BZ', 'CA', 'CD', 'CG', 'CH', 'CI',\n",
       "       'CL', 'CM', 'CN', 'CO', 'CR', 'CU', 'CV', 'CY', 'CZ', 'DE', 'DK',\n",
       "       'DO', 'DZ', 'EC', 'EE', 'EG', 'ER', 'ES', 'ET', 'FI', 'FJ', 'FO',\n",
       "       'FR', 'GA', 'GB', 'GD', 'GE', 'GF', 'GH', 'GI', 'GL', 'GM', 'GN',\n",
       "       'GR', 'GT', 'GU', 'GW', 'GY', 'HN', 'HR', 'HU', 'ID', 'IE', 'IL',\n",
       "       'IN', 'IQ', 'IR', 'IS', 'IT', 'JE', 'JM', 'JO', 'JP', 'KE', 'KG',\n",
       "       'KH', 'KN', 'KP', 'KR', 'KW', 'KY', 'KZ', 'LA', 'LB', 'LI', 'LK',\n",
       "       'LR', 'LS', 'LT', 'LU', 'LV', 'LY', 'MA', 'MD', 'ME', 'MG', 'MH',\n",
       "       'MK', 'ML', 'MM', 'MN', 'MR', 'MT', 'MU', 'MW', 'MX', 'MY', 'MZ',\n",
       "       'NC', 'NE', 'NG', 'NI', 'NL', 'NO', 'NP', 'NZ', 'OM', 'PA', 'PE',\n",
       "       'PF', 'PG', 'PH', 'PK', 'PL', 'PR', 'PT', 'PW', 'PY', 'QA', 'RE',\n",
       "       'RO', 'RS', 'RU', 'RW', 'SA', 'SC', 'SD', 'SE', 'SG', 'SI', 'SK',\n",
       "       'SL', 'SN', 'SO', 'SR', 'SV', 'SY', 'SZ', 'TD', 'TG', 'TH', 'TJ',\n",
       "       'TL', 'TN', 'TR', 'TT', 'TZ', 'UA', 'UG', 'US', 'UY', 'UZ', 'VC',\n",
       "       'VE', 'VI', 'VN', 'VU', 'WS', 'YE', 'ZA', 'ZM', 'ZW', 'Rank',\n",
       "       'Age', 'SameRace', 'SameCountry', 'Art', 'Biology', 'Business',\n",
       "       'Chemistry', 'Computer_science', 'Economics', 'Engineering',\n",
       "       'Environmental_science', 'Geography', 'Geology', 'History',\n",
       "       'Materials_science', 'Mathematics', 'Medicine', 'Philosophy',\n",
       "       'Physics', 'Political_science', 'Psychology', 'Sociology', 'multi'],\n",
       "      dtype=object)"
      ]
     },
     "execution_count": 178,
     "metadata": {},
     "output_type": "execute_result"
    }
   ],
   "source": [
    "paperDf.columns.values"
   ]
  },
  {
   "cell_type": "code",
   "execution_count": 179,
   "id": "de6b0b84",
   "metadata": {},
   "outputs": [
    {
     "name": "stdout",
     "output_type": "stream",
     "text": [
      "CPU times: user 1min 46s, sys: 8.42 s, total: 1min 55s\n",
      "Wall time: 1min 9s\n"
     ]
    }
   ],
   "source": [
    "%%time\n",
    "resSimp, res = getRegressionResult(paperDf, US=False)"
   ]
  },
  {
   "cell_type": "code",
   "execution_count": 180,
   "id": "da4263cf",
   "metadata": {},
   "outputs": [],
   "source": [
    "raceToPlot = resSimp[resSimp.Race.isin(['White', 'API', 'Hispanic', 'Black'])].sort_values(by='err')\n",
    "# percentage of race, without Total, with discpline"
   ]
  },
  {
   "cell_type": "code",
   "execution_count": 182,
   "id": "27e9d0b8",
   "metadata": {},
   "outputs": [
    {
     "data": {
      "text/html": [
       "<div>\n",
       "<style scoped>\n",
       "    .dataframe tbody tr th:only-of-type {\n",
       "        vertical-align: middle;\n",
       "    }\n",
       "\n",
       "    .dataframe tbody tr th {\n",
       "        vertical-align: top;\n",
       "    }\n",
       "\n",
       "    .dataframe thead th {\n",
       "        text-align: right;\n",
       "    }\n",
       "</style>\n",
       "<table border=\"1\" class=\"dataframe\">\n",
       "  <thead>\n",
       "    <tr style=\"text-align: right;\">\n",
       "      <th></th>\n",
       "      <th>Race</th>\n",
       "      <th>lo</th>\n",
       "      <th>hi</th>\n",
       "      <th>Mean</th>\n",
       "      <th>err</th>\n",
       "      <th>pvalue</th>\n",
       "    </tr>\n",
       "  </thead>\n",
       "  <tbody>\n",
       "    <tr>\n",
       "      <th>93</th>\n",
       "      <td>API</td>\n",
       "      <td>-0.002441</td>\n",
       "      <td>-0.000554</td>\n",
       "      <td>-0.001497</td>\n",
       "      <td>0.000943</td>\n",
       "      <td>1.860406e-03</td>\n",
       "    </tr>\n",
       "    <tr>\n",
       "      <th>95</th>\n",
       "      <td>Hispanic</td>\n",
       "      <td>-0.001433</td>\n",
       "      <td>0.003278</td>\n",
       "      <td>0.000922</td>\n",
       "      <td>0.002355</td>\n",
       "      <td>4.427190e-01</td>\n",
       "    </tr>\n",
       "    <tr>\n",
       "      <th>94</th>\n",
       "      <td>Black</td>\n",
       "      <td>0.017118</td>\n",
       "      <td>0.028034</td>\n",
       "      <td>0.022576</td>\n",
       "      <td>0.005458</td>\n",
       "      <td>5.182735e-16</td>\n",
       "    </tr>\n",
       "  </tbody>\n",
       "</table>\n",
       "</div>"
      ],
      "text/plain": [
       "        Race        lo        hi      Mean       err        pvalue\n",
       "93       API -0.002441 -0.000554 -0.001497  0.000943  1.860406e-03\n",
       "95  Hispanic -0.001433  0.003278  0.000922  0.002355  4.427190e-01\n",
       "94     Black  0.017118  0.028034  0.022576  0.005458  5.182735e-16"
      ]
     },
     "execution_count": 182,
     "metadata": {},
     "output_type": "execute_result"
    }
   ],
   "source": [
    "raceToPlot"
   ]
  },
  {
   "cell_type": "code",
   "execution_count": 188,
   "id": "ebbf84a2",
   "metadata": {},
   "outputs": [
    {
     "data": {
      "text/plain": [
       "(184, 8)"
      ]
     },
     "execution_count": 188,
     "metadata": {},
     "output_type": "execute_result"
    }
   ],
   "source": [
    "countryToPlot = (\n",
    "    resSimp[resSimp.Race.isin([x.strip() for x in country_control.split('+')])]\n",
    "    .rename(columns={'Race':'iso'})\n",
    "    .merge(continents, on='iso')\n",
    "    .merge(colorsDf, on='region')\n",
    ")\n",
    "countryToPlot.shape"
   ]
  },
  {
   "cell_type": "code",
   "execution_count": 189,
   "id": "915c5d9d",
   "metadata": {},
   "outputs": [
    {
     "data": {
      "image/png": "[encoded data removed]",
      "text/plain": [
       "<Figure size 590.551x196.85 with 2 Axes>"
      ]
     },
     "metadata": {},
     "output_type": "display_data"
    }
   ],
   "source": [
    "plt.figure(figsize=(15*cm, 5*cm))\n",
    "\n",
    "ax = plt.subplot(1, 2, 1)\n",
    "sns.stripplot(data=countryToPlot.query('pvalue < 0.05'), x='Color', y='Mean', ax=ax,\n",
    "           palette={'#f34d4d':'#f34d4d','#69bade':'#69bade'}, alpha=0.8, size=4, \n",
    "           )\n",
    "\n",
    "sns.boxplot(data=countryToPlot.query('pvalue < 0.05'), x='Color', y='Mean', ax=ax, showfliers=False,\n",
    "           palette={'#f34d4d':'#f34d4d','#69bade':'#69bade'}, linewidth=0.5, width=0.4,\n",
    "            showmeans=False, **{'boxprops':{'facecolor':'none', 'edgecolor':'black'}}\n",
    "           )\n",
    "            \n",
    "ax.set_ylim(-0.03, 0.07)\n",
    "\n",
    "ax.set_ylabel('Relative acceptance delay\\n(relative to the U.S.)')\n",
    "ax.set_xlabel('')\n",
    "ax.set_xticks([0, 1])\n",
    "ax.set_xticklabels(['Asian, African,\\nand South American\\ncountries',\n",
    "                    'North American,\\nEuropean, and\\nOceanian countries'\n",
    "                    ])\n",
    "ax.spines['right'].set_visible(False)\n",
    "ax.spines['top'].set_visible(False)\n",
    "ax.set_xlim(-0.3, 1.3)\n",
    "\n",
    "ax.set_yticks([-0.02, 0, 0.02, 0.04, 0.06])\n",
    "ax.set_yticklabels(['-2%', '0%', '2%', '4%', '6%'])\n",
    "\n",
    "\n",
    "ax = plt.subplot(1, 2, 2)\n",
    "\n",
    "ax.errorbar(x=[0], y=raceToPlot.Mean.values[0],\n",
    "            yerr=raceToPlot.apply(lambda row: row.Mean-row.lo, axis=1).values[0],\n",
    "            fmt = ' ', marker='o', ms=2, elinewidth=0.5, capsize=2, capthick=0.5,\n",
    "            color=COLOR['API'])\n",
    "\n",
    "ax.errorbar(x=[1], y=raceToPlot.Mean.values[1],\n",
    "            yerr=raceToPlot.apply(lambda row: row.Mean-row.lo, axis=1).values[1],\n",
    "            fmt = ' ', marker='o', ms=2, elinewidth=0.5, capsize=2, capthick=0.5,\n",
    "            color=COLOR['Hispanic'])\n",
    "\n",
    "ax.errorbar(x=[2], y=raceToPlot.Mean.values[2],\n",
    "            yerr=raceToPlot.apply(lambda row: row.Mean-row.lo, axis=1).values[2],\n",
    "            fmt = ' ', marker='o', ms=2, elinewidth=0.5, capsize=2, capthick=0.5,\n",
    "            color=COLOR['Black'])\n",
    "\n",
    "ax.plot([-1, 5], [0, 0], color='gray', lw=0.5)\n",
    "ax.set_ylabel('Relative acceptance delay\\n(relative to White)')\n",
    "ax.spines['right'].set_visible(False)\n",
    "ax.spines['top'].set_visible(False)\n",
    "ax.set_xticks([0, 1, 2])\n",
    "ax.set_xticklabels(['API','Hispanic','Black'])\n",
    "ax.set_xlim(-0.3, 2.3)\n",
    "\n",
    "ax.set_yticks([0, 0.005, 0.01, 0.015, 0.02, 0.025])\n",
    "ax.set_yticklabels(['0%', '0.5%', '1%', '1.5%', '2%', '2.5%'])\n",
    "\n",
    "plt.tight_layout()"
   ]
  },
  {
   "cell_type": "code",
   "execution_count": null,
   "id": "8833283c",
   "metadata": {},
   "outputs": [],
   "source": []
  }
 ],
 "metadata": {
  "kernelspec": {
   "display_name": "Python 3 (ipykernel)",
   "language": "python",
   "name": "python3"
  },
  "language_info": {
   "codemirror_mode": {
    "name": "ipython",
    "version": 3
   },
   "file_extension": ".py",
   "mimetype": "text/x-python",
   "name": "python",
   "nbconvert_exporter": "python",
   "pygments_lexer": "ipython3",
   "version": "3.8.2"
  },
  "toc": {
   "base_numbering": 1,
   "nav_menu": {},
   "number_sections": true,
   "sideBar": true,
   "skip_h1_title": false,
   "title_cell": "Table of Contents",
   "title_sidebar": "Contents",
   "toc_cell": false,
   "toc_position": {},
   "toc_section_display": true,
   "toc_window_display": true
  }
 },
 "nbformat": 4,
 "nbformat_minor": 5
}
