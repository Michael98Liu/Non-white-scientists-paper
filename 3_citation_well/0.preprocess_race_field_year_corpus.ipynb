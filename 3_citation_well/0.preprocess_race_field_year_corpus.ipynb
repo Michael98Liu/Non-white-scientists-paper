{
 "cells": [
  {
   "cell_type": "code",
   "execution_count": null,
   "metadata": {},
   "outputs": [],
   "source": [
    "import glob\n",
    "import sys\n",
    "import imp\n",
    "sys.path.append('/home/fl1092/editor-followup-analysis/src')\n",
    "import loader\n",
    "import utils\n",
    "import os\n",
    "\n",
    "from tqdm.notebook import tqdm\n",
    "import pandas as pd\n",
    "\n",
    "DIR = '/scratch/fl1092/followup-editors/race_citation_well/'\n",
    "MAGDIR = '/scratch/fl1092/MAG/2021-12-06/'\n",
    "REPDIR = '/scratch/fl1092/leading_country_replication/'"
   ]
  },
  {
   "cell_type": "code",
   "execution_count": null,
   "metadata": {},
   "outputs": [],
   "source": [
    "%%time\n",
    "info = (\n",
    "    pd.read_csv('/scratch/fl1092/followup-editors/PaperInfoGathered.csv', sep='\\t',\n",
    "                usecols=['PaperId','Publisher','Journal'])\n",
    "    .query('Journal == \"PNAS\"')\n",
    ")\n",
    "print(info.shape)"
   ]
  },
  {
   "cell_type": "code",
   "execution_count": null,
   "metadata": {},
   "outputs": [],
   "source": [
    "%%time\n",
    "paperCountry = loader.loadPaperCountry().query('iso == \"US\"').drop(['iso','CountryCount','Count','Percentage'],axis=1)\n",
    "print(paperCountry.shape)"
   ]
  },
  {
   "cell_type": "code",
   "execution_count": null,
   "metadata": {},
   "outputs": [],
   "source": [
    "paperCountry.head()"
   ]
  },
  {
   "cell_type": "code",
   "execution_count": null,
   "metadata": {},
   "outputs": [],
   "source": [
    "papers = info[['PaperId']].drop_duplicates().merge(paperCountry, on='PaperId')\n",
    "print(papers.shape)"
   ]
  },
  {
   "cell_type": "code",
   "execution_count": null,
   "metadata": {},
   "outputs": [],
   "source": [
    "Original: use all papers in MAG that are US-based\n",
    "%%time\n",
    "papers = (\n",
    "    pd.read_csv('/scratch/fl1092/followup-editors/PaperCountryAll.csv', sep='\\t',\n",
    "                usecols=['PaperId','iso','Percentage'])\n",
    "    .query('iso == \"US\"')\n",
    "    .drop('Percentage', axis=1)\n",
    ")\n",
    "\n",
    "print(papers.shape)"
   ]
  },
  {
   "cell_type": "markdown",
   "metadata": {},
   "source": [
    "# Paper race"
   ]
  },
  {
   "cell_type": "code",
   "execution_count": null,
   "metadata": {},
   "outputs": [],
   "source": [
    "%%time\n",
    "race = loader.loadRace()"
   ]
  },
  {
   "cell_type": "code",
   "execution_count": null,
   "metadata": {},
   "outputs": [],
   "source": [
    "%%time\n",
    "papAu = loader.loadPaperAuthor()"
   ]
  },
  {
   "cell_type": "code",
   "execution_count": null,
   "metadata": {},
   "outputs": [],
   "source": [
    "%%time\n",
    "paperRace = (\n",
    "    papers.merge(papAu, on=[\"PaperId\"])\n",
    "    .merge(race, on='AuthorId')\n",
    "    .drop(['AuthorId','RaceScore'], axis=1) # iso\n",
    "    .drop_duplicates()\n",
    ")\n",
    "print(paperRace.shape)"
   ]
  },
  {
   "cell_type": "code",
   "execution_count": null,
   "metadata": {},
   "outputs": [],
   "source": [
    "paperRace.PaperId.nunique()"
   ]
  },
  {
   "cell_type": "code",
   "execution_count": null,
   "metadata": {},
   "outputs": [],
   "source": [
    "paperRace.to_csv(DIR + 'PaperRace.csv', sep='\\t', index=False)"
   ]
  },
  {
   "cell_type": "markdown",
   "metadata": {},
   "source": [
    "# Field"
   ]
  },
  {
   "cell_type": "code",
   "execution_count": null,
   "metadata": {},
   "outputs": [],
   "source": [
    "%%time\n",
    "fields = pd.read_csv(MAGDIR + \"advanced/FieldsOfStudy.txt\", sep=\"\\t\",\n",
    "                     usecols=['FieldOfStudyId','Level'],\n",
    "                        names = [\"FieldOfStudyId\", \"Rank\", \"NormalizedName\", \"DisplayName\", \n",
    "                                 \"MainType\",\"Level\",\"PaperCount\",\"PaperFamilyCount\",\"CitationCount\",\"CreatedDate\"])\n",
    "print(fields.shape)"
   ]
  },
  {
   "cell_type": "code",
   "execution_count": null,
   "metadata": {},
   "outputs": [],
   "source": [
    "assert(fields.query('Level == 1').FieldOfStudyId.duplicated().any()==False)\n",
    "fields.query('Level == 1').shape"
   ]
  },
  {
   "cell_type": "code",
   "execution_count": null,
   "metadata": {},
   "outputs": [],
   "source": [
    "%%time\n",
    "paper_field = pd.read_csv(MAGDIR + \"advanced/PaperFieldsOfStudy.txt\", sep='\\t',\n",
    "                         names=['PaperId', \"FieldOfStudyId\", 'Score'],\n",
    "                         usecols=['PaperId', \"FieldOfStudyId\"],\n",
    "                         dtype={'PaperId':int, \"FieldOfStudyId\": int, \"Score\":float})\n",
    "print(paper_field.shape)"
   ]
  },
  {
   "cell_type": "code",
   "execution_count": null,
   "metadata": {},
   "outputs": [],
   "source": [
    "%%time\n",
    "paperField = (\n",
    "    papers.merge(paper_field, on='PaperId')\n",
    "    .merge(fields.query('Level == 1'), on='FieldOfStudyId')\n",
    "    .drop('Level', axis=1)\n",
    ")\n",
    "print(paperField.shape, paperField.PaperId.nunique())"
   ]
  },
  {
   "cell_type": "code",
   "execution_count": null,
   "metadata": {},
   "outputs": [],
   "source": [
    "# paperField = paperField.drop('iso', axis=1)\n",
    "# paperField.shape"
   ]
  },
  {
   "cell_type": "code",
   "execution_count": null,
   "metadata": {},
   "outputs": [],
   "source": [
    "paperField.to_csv(DIR + 'PaperField.csv', sep='\\t', index=False)"
   ]
  },
  {
   "cell_type": "markdown",
   "metadata": {},
   "source": [
    "# Paper year"
   ]
  },
  {
   "cell_type": "code",
   "execution_count": null,
   "metadata": {},
   "outputs": [],
   "source": [
    "%%time\n",
    "paper_year = pd.read_csv(MAGDIR+'derived/PaperYear.csv',sep='\\t')\n",
    "print(paper_year.shape) # 269806629 # 262235509"
   ]
  },
  {
   "cell_type": "code",
   "execution_count": null,
   "metadata": {},
   "outputs": [],
   "source": [
    "%%time\n",
    "paperYear = (\n",
    "    paper_year.merge(papers, on='PaperId') # .drop('iso', axis=1)\n",
    ")\n",
    "print(paperYear.shape) # 172062"
   ]
  },
  {
   "cell_type": "code",
   "execution_count": null,
   "metadata": {},
   "outputs": [],
   "source": [
    "paperYear.Year.min()"
   ]
  },
  {
   "cell_type": "code",
   "execution_count": null,
   "metadata": {},
   "outputs": [],
   "source": [
    "paperYear.to_csv(DIR + 'PaperYear.csv', sep='\\t', index=False)"
   ]
  },
  {
   "cell_type": "markdown",
   "metadata": {},
   "source": [
    "# Corpus"
   ]
  },
  {
   "cell_type": "code",
   "execution_count": null,
   "metadata": {},
   "outputs": [],
   "source": [
    "%%time\n",
    "paper_abstract = pd.concat([\n",
    "    pd.read_csv(file, sep='\\t', names=['PaperId', 'IndexedAbstract']).merge(papers, on='PaperId')# .drop('iso',axis=1)\n",
    "    for file in tqdm(glob.glob('/scratch/fl1092/MAG_July_2021/nlp/PaperAbstractsInvertedIndex.*'))])"
   ]
  },
  {
   "cell_type": "code",
   "execution_count": null,
   "metadata": {},
   "outputs": [],
   "source": [
    "paper_abstract.shape"
   ]
  },
  {
   "cell_type": "code",
   "execution_count": null,
   "metadata": {},
   "outputs": [],
   "source": [
    "paper_abstract.to_csv(DIR + 'RawPaperAbstract.csv', sep='\\t', index=False)"
   ]
  },
  {
   "cell_type": "markdown",
   "metadata": {},
   "source": [
    "### Clean abstract"
   ]
  },
  {
   "cell_type": "code",
   "execution_count": null,
   "metadata": {},
   "outputs": [],
   "source": [
    "import json\n",
    "import string\n",
    "\n",
    "def create_text_and_langauge(indexedabstract_input):\n",
    "    \n",
    "    inverted_index = json.loads(indexedabstract_input)[\"InvertedIndex\"]\t\n",
    "    index = {\n",
    "        k: str(oldk).lstrip().rstrip().lower().translate(str.maketrans('', '', string.punctuation))\n",
    "        for oldk, oldv in inverted_index.items()\n",
    "        for k in oldv\n",
    "    }\n",
    "\n",
    "    if len(index.values())<30:\n",
    "        return \"\"\n",
    "\n",
    "    abstract_text = \"\"\n",
    "    for i in range(0,len(index)):\n",
    "        try:\n",
    "            abstract_text += index[i] + \" \"\n",
    "        except:\n",
    "            next\n",
    "\n",
    "    return abstract_text"
   ]
  },
  {
   "cell_type": "code",
   "execution_count": null,
   "metadata": {},
   "outputs": [],
   "source": [
    "%%time\n",
    "df_abstract = (\n",
    "    paper_abstract.assign(Abstract = lambda df: df.IndexedAbstract.apply(lambda x: create_text_and_langauge(x)))\n",
    "    .drop('IndexedAbstract', axis=1)\n",
    ")"
   ]
  },
  {
   "cell_type": "code",
   "execution_count": null,
   "metadata": {},
   "outputs": [],
   "source": [
    "df_abstract.head()"
   ]
  },
  {
   "cell_type": "markdown",
   "metadata": {},
   "source": [
    "### Detect language"
   ]
  },
  {
   "cell_type": "code",
   "execution_count": null,
   "metadata": {},
   "outputs": [],
   "source": [
    "#### my customary english detector ####\n",
    "def detect(s):\n",
    "    # if it contains at least one english letter than it is considered english\n",
    "    \n",
    "    for c in s:\n",
    "        if ord(c) >=65 and ord(c) <=122:\n",
    "            return True\n",
    "    \n",
    "    return False\n",
    "\n",
    "assert(detect('abc') == True)\n",
    "assert(detect('abc123') == True)"
   ]
  },
  {
   "cell_type": "code",
   "execution_count": null,
   "metadata": {},
   "outputs": [],
   "source": [
    "%%time\n",
    "df_abstract = (\n",
    "    df_abstract.assign(Is_English = lambda df: df.Abstract.apply(detect))\n",
    ")"
   ]
  },
  {
   "cell_type": "code",
   "execution_count": null,
   "metadata": {},
   "outputs": [],
   "source": [
    "df_abstract[df_abstract.Is_English == False].sample(5)"
   ]
  },
  {
   "cell_type": "markdown",
   "metadata": {},
   "source": [
    "### Remove stop words and Rake"
   ]
  },
  {
   "cell_type": "code",
   "execution_count": null,
   "metadata": {},
   "outputs": [],
   "source": [
    "import itertools\n",
    "from nltk.corpus import stopwords"
   ]
  },
  {
   "cell_type": "code",
   "execution_count": null,
   "metadata": {},
   "outputs": [],
   "source": [
    "stopword_list_extended = pd.read_csv(REPDIR + \"INPUT_Stopword_List.csv\",header=None).values.tolist()\n",
    "stopword_list_extended = list(itertools.chain(*stopword_list_extended))\n",
    "\n",
    "stopword_list = stopwords.words('english') + list(string.punctuation)\n",
    "stopword_list.append('')\n",
    "stopword_list.append('this')\n",
    "stopword_list.append('come')\n",
    "stopword_list.append('make')\n",
    "stopword_list.append('among')\n",
    "stopword_list.append('toward')\n",
    "stopword_list.append('put')\n",
    "stopword_list.append('use')\n",
    "stopword_list.append('during')\n",
    "stopword_list.append('since')\n",
    "stopword_list.append('from')\n",
    "stopword_list.append('with')\n",
    "stopword_list.append('article')\n",
    "stopword_list.append('has')\n",
    "stopword_list.append('find')\n",
    "stopword_list.append('argue')\n",
    "stopword_list.append('also')\n",
    "stopword_list.append('elsevi')\n",
    "stopword_list.append('ltd')\n",
    "stopword_list.append('use')\n",
    "stopword_list.append('abstract')\n",
    "stopword_list.append('paper')\n",
    "stopword_list.append('article')\n",
    "stopword_list.append('describe')\n",
    "stopword_list.append('described')\n",
    "stopword_list.extend(stopword_list_extended)\n",
    "stopword_list = list(set(stopword_list))\n",
    "\n",
    "# Source | Academic Word List Coxhead (2000) and list of action verbs. \n",
    "# http://www.uefap.com/vocab/select/awl.htm\n",
    "academic_stopwords = pd.read_csv(REPDIR + \"INPUT_R_Academic_Stopwords.csv\")[\"ACADEMIC_STOP_WORDS\"].values.tolist()\n",
    "academic_stopwords = [stop_.lstrip().rstrip() for stop_ in academic_stopwords]\n",
    "stopword_list.extend(academic_stopwords)\n",
    "stopword_list = list(set(stopword_list))"
   ]
  },
  {
   "cell_type": "code",
   "execution_count": null,
   "metadata": {},
   "outputs": [],
   "source": [
    "from rake_nltk import Rake\n",
    "\n",
    "def translate_English(x):\n",
    "    r = Rake(min_length=1,max_length=3,stopwords=stopword_list,punctuations=string.punctuation)\n",
    "    # Uses stopwords for english from NLTK, and all puntuation characters.\n",
    "    r.extract_keywords_from_text(x)\n",
    "    return r.get_ranked_phrases()"
   ]
  },
  {
   "cell_type": "code",
   "execution_count": null,
   "metadata": {},
   "outputs": [],
   "source": [
    "%%time\n",
    "df_abstract_en = (\n",
    "    df_abstract.query('Is_English == True')\n",
    "    .assign(RakeAbstract = lambda df: df.Abstract.apply(translate_English))\n",
    ")"
   ]
  },
  {
   "cell_type": "code",
   "execution_count": null,
   "metadata": {},
   "outputs": [],
   "source": [
    "df_abstract_en.head()"
   ]
  },
  {
   "cell_type": "code",
   "execution_count": null,
   "metadata": {},
   "outputs": [],
   "source": [
    "df_abstract_en.shape"
   ]
  },
  {
   "cell_type": "code",
   "execution_count": null,
   "metadata": {},
   "outputs": [],
   "source": [
    "df_abstract_en.to_csv(DIR + 'PaperAbstractProcessed.csv', sep='\\t', index=False, columns=['PaperId','RakeAbstract'])"
   ]
  },
  {
   "cell_type": "code",
   "execution_count": null,
   "metadata": {},
   "outputs": [],
   "source": []
  }
 ],
 "metadata": {
  "kernelspec": {
   "display_name": "Python 3 (ipykernel)",
   "language": "python",
   "name": "python3"
  },
  "language_info": {
   "codemirror_mode": {
    "name": "ipython",
    "version": 3
   },
   "file_extension": ".py",
   "mimetype": "text/x-python",
   "name": "python",
   "nbconvert_exporter": "python",
   "pygments_lexer": "ipython3",
   "version": "3.8.2"
  },
  "toc": {
   "base_numbering": 1,
   "nav_menu": {},
   "number_sections": true,
   "sideBar": true,
   "skip_h1_title": false,
   "title_cell": "Table of Contents",
   "title_sidebar": "Contents",
   "toc_cell": false,
   "toc_position": {},
   "toc_section_display": true,
   "toc_window_display": false
  }
 },
 "nbformat": 4,
 "nbformat_minor": 4
}
