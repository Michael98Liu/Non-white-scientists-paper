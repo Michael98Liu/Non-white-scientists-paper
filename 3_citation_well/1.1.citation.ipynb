{
 "cells": [
  {
   "cell_type": "markdown",
   "metadata": {},
   "source": [
    "Source: \n",
    "\n",
    "Gomez, Charles, 2022, \"Replication Data for: Leading countries in global science increasingly receive more citations than other countries doing similar research.\", https://doi.org/10.7910/DVN/WCOINR, Harvard Dataverse."
   ]
  },
  {
   "cell_type": "code",
   "execution_count": null,
   "metadata": {},
   "outputs": [],
   "source": [
    "import pandas as pd\n",
    "from tqdm.notebook import tqdm\n",
    "\n",
    "MAGDIR = '/scratch/fl1092/MAG/2021-12-06/'\n",
    "DIR = '/scratch/fl1092/followup-editors/race_citation_well/'"
   ]
  },
  {
   "cell_type": "code",
   "execution_count": null,
   "metadata": {},
   "outputs": [],
   "source": [
    "%%time\n",
    "reference = pd.read_csv(MAGDIR+\"mag/PaperReferences.txt\", sep=\"\\t\",\n",
    "                       names = ['CitesFrom', 'BeingCited'], memory_map=True)\n",
    "print(reference.shape)"
   ]
  },
  {
   "cell_type": "code",
   "execution_count": null,
   "metadata": {},
   "outputs": [],
   "source": [
    "%%time\n",
    "paperRace = pd.read_csv(DIR + 'PaperRace.csv', sep='\\t')\n",
    "print(paperRace.shape)"
   ]
  },
  {
   "cell_type": "code",
   "execution_count": null,
   "metadata": {},
   "outputs": [],
   "source": [
    "%%time\n",
    "paperYear = pd.read_csv(DIR + 'PaperYear.csv', sep='\\t')\n",
    "print(paperRace.shape)"
   ]
  },
  {
   "cell_type": "code",
   "execution_count": null,
   "metadata": {},
   "outputs": [],
   "source": [
    "%%time\n",
    "paperField = pd.read_csv(DIR + 'PaperField.csv', sep='\\t')\n",
    "print(paperField.shape)"
   ]
  },
  {
   "cell_type": "code",
   "execution_count": null,
   "metadata": {},
   "outputs": [],
   "source": [
    "fields = paperField.FieldOfStudyId.unique()"
   ]
  },
  {
   "cell_type": "code",
   "execution_count": null,
   "metadata": {},
   "outputs": [],
   "source": [
    "%%time\n",
    "for field in tqdm(fields):\n",
    "    \n",
    "    papers = (\n",
    "        paperField.query('FieldOfStudyId == @field')\n",
    "        \n",
    "        .merge(paperRace, on=['PaperId'])\n",
    "        .merge(paperYear, on=['PaperId'])\n",
    "        \n",
    "        .rename(columns={'PaperId':'paperid'})\n",
    "    )\n",
    "\n",
    "    print('---', field, '---', papers.shape)\n",
    "    \n",
    "    df_citation_year_label_edgelist = (\n",
    "        \n",
    "        reference[reference.BeingCited.isin(papers.paperid)]\n",
    "        \n",
    "        .merge(papers.rename(columns={\n",
    "            'paperid':'BeingCited',\n",
    "            'Year':'Cited_Year',\n",
    "            'Race':'Cited_Race'}), on='BeingCited')\n",
    "        .merge(papers.rename(columns={\n",
    "            'paperid':'CitesFrom',\n",
    "            'Year':'Citing_Year',\n",
    "            'Race':'Citing_Race'}), on='CitesFrom')\n",
    "        \n",
    "        .assign(Count=1)\n",
    "        .groupby(['Citing_Race','Citing_Year','Cited_Year','Cited_Race']).Count.sum().reset_index()\n",
    "        .rename(columns={'Count':'number_of_cites'})\n",
    "        .assign(Cited_Fieldid=field)\n",
    "    )\n",
    "    \n",
    "    print('citation', df_citation_year_label_edgelist.shape)\n",
    "    \n",
    "    ##################################\n",
    "    #### Merge with GRID and Aggregate\n",
    "    ##################################\n",
    "    \n",
    "    Citation_Year_Filename = DIR + f\"citation/{field}.csv.gz\"    \n",
    "    df_citation_year_label_edgelist.to_csv(Citation_Year_Filename, index=False, compression='gzip')"
   ]
  },
  {
   "cell_type": "code",
   "execution_count": null,
   "metadata": {},
   "outputs": [],
   "source": []
  }
 ],
 "metadata": {
  "kernelspec": {
   "display_name": "Python 3 (ipykernel)",
   "language": "python",
   "name": "python3"
  },
  "language_info": {
   "codemirror_mode": {
    "name": "ipython",
    "version": 3
   },
   "file_extension": ".py",
   "mimetype": "text/x-python",
   "name": "python",
   "nbconvert_exporter": "python",
   "pygments_lexer": "ipython3",
   "version": "3.8.2"
  },
  "toc": {
   "base_numbering": 1,
   "nav_menu": {},
   "number_sections": true,
   "sideBar": true,
   "skip_h1_title": false,
   "title_cell": "Table of Contents",
   "title_sidebar": "Contents",
   "toc_cell": false,
   "toc_position": {},
   "toc_section_display": true,
   "toc_window_display": false
  }
 },
 "nbformat": 4,
 "nbformat_minor": 4
}
